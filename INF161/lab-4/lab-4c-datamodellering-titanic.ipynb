{
 "cells": [
  {
   "cell_type": "markdown",
   "metadata": {},
   "source": [
    "## Titanic overlevelse\n",
    "\n",
    "Her har vi data om passasjerer på skipet Titanic og informasjon om hvorvidt de overlevde. I denne oppgaven skal du bruke passasjerdata for å teste om det er forskjeller i overlevelsen mellom passasjergrupper og predikere om passasjeren overlevde. "
   ]
  },
  {
   "cell_type": "code",
   "execution_count": 82,
   "metadata": {},
   "outputs": [],
   "source": [
    "# imports\n",
    "import numpy as np\n",
    "import pandas as pd\n",
    "from scipy import stats\n",
    "\n",
    "from sklearn.model_selection import train_test_split\n",
    "from sklearn.linear_model import Lasso, LogisticRegression\n",
    "from sklearn.neighbors import KNeighborsClassifier\n",
    "from sklearn.ensemble import RandomForestClassifier\n",
    "from sklearn.naive_bayes import MultinomialNB\n",
    "from sklearn.svm import SVC\n",
    "from sklearn.metrics import accuracy_score, log_loss"
   ]
  },
  {
   "cell_type": "code",
   "execution_count": 83,
   "metadata": {},
   "outputs": [],
   "source": [
    "# les inn Titanic-data\n",
    "titanic_df = pd.read_csv('data/titanic.csv')"
   ]
  },
  {
   "cell_type": "markdown",
   "metadata": {},
   "source": [
    "Først endrer vi litt på data for å gjøre oppgaven enklere. Dette er ikke en god ide å gjøre når vi vil lage bestmulige modeller. "
   ]
  },
  {
   "cell_type": "code",
   "execution_count": 84,
   "metadata": {},
   "outputs": [],
   "source": [
    "# del data i mål-, og prediktorvariabler\n",
    "X_cols = ['Pclass', 'Sex', 'Age', 'SibSp', 'Parch', 'Fare']\n",
    "y_col = 'Survived'\n",
    "reduced_df = titanic_df.loc[:, X_cols + [y_col]].dropna()\n",
    "X_df = pd.get_dummies(reduced_df.loc[:, X_cols], dtype='int')\n",
    "X = X_df.values\n",
    "y = reduced_df[y_col].values"
   ]
  },
  {
   "cell_type": "markdown",
   "metadata": {},
   "source": [
    "Del data i trenings-, validerigns-, og testdata med størrelser 70%, 15%, 15% av data. "
   ]
  },
  {
   "cell_type": "code",
   "execution_count": 85,
   "metadata": {},
   "outputs": [],
   "source": [
    "# dele data i trenings, validerings og testdata\n",
    "# generer X_train, X_val, X_test, y_train, y_val, y_test\n",
    "X_train, X_temp, y_train, y_temp = train_test_split(X, y, test_size=0.30, random_state=42)\n",
    "X_val, X_test, y_val, y_test = train_test_split(X_temp, y_temp, test_size=0.5, random_state=42)"
   ]
  },
  {
   "cell_type": "markdown",
   "metadata": {},
   "source": [
    "På treningsdata, test om menn og kvinner hadde forskjellige sannsynligheter for å overleve."
   ]
  },
  {
   "cell_type": "code",
   "execution_count": 90,
   "metadata": {},
   "outputs": [
    {
     "data": {
      "text/plain": [
       "SignificanceResult(statistic=13.73054587688734, pvalue=9.399553467162986e-37)"
      ]
     },
     "execution_count": 90,
     "metadata": {},
     "output_type": "execute_result"
    }
   ],
   "source": [
    "# test om menn og kvinner hadde forskjellig overlevelse\n",
    "train_df = pd.DataFrame(X_train, columns = X_df.columns)\n",
    "train_df['Survived'] = y_train\n",
    "\n",
    "kjonn_overlevelse = pd.crosstab(train_df['Sex_female'], train_df['Survived'])\n",
    "kjonn_test = stats.fisher_exact(kjonn_overlevelse)\n",
    "kjonn_test"
   ]
  },
  {
   "cell_type": "markdown",
   "metadata": {},
   "source": [
    "På treningsdata, test om de som overlevde hadde forskjellig mean alder enn de som ikke overlevde. "
   ]
  },
  {
   "cell_type": "code",
   "execution_count": 99,
   "metadata": {},
   "outputs": [
    {
     "data": {
      "text/plain": [
       "TtestResult(statistic=2.3814519197745625, pvalue=0.01762007031920793, df=497.0)"
      ]
     },
     "execution_count": 99,
     "metadata": {},
     "output_type": "execute_result"
    }
   ],
   "source": [
    "# test om de som overlevde hadde forskjellig mean alder enn de som ikke overlevde\n",
    "alder_test = stats.ttest_ind(train_df.loc[train_df.loc[:, 'Survived'] == 0, 'Age'], \n",
    "                            train_df.loc[train_df.loc[:, 'Survived'] == 1, 'Age'])\n",
    "alder_test"
   ]
  },
  {
   "cell_type": "markdown",
   "metadata": {},
   "source": [
    "Tren en kNN-modell med k=1, k=10 og k=50 på treningsdata. Tren også en logistisk regresjon, naive Bayes modell, tilfeldig skog og supportvektormaskin på treningsdata."
   ]
  },
  {
   "cell_type": "code",
   "execution_count": 100,
   "metadata": {},
   "outputs": [],
   "source": [
    "# tren forskjellige modeller\n",
    "\n",
    "models = {\n",
    "    'kNN-1': KNeighborsClassifier(n_neighbors=1),\n",
    "    'kNN-10': KNeighborsClassifier(n_neighbors=10),\n",
    "    'kNN-50': KNeighborsClassifier(n_neighbors=50),\n",
    "    'Logistic Regression': LogisticRegression(max_iter=200),\n",
    "    'Naive Bayes': MultinomialNB(),\n",
    "    'Random Forest': RandomForestClassifier(),\n",
    "    'SVC': SVC(probability=True)\n",
    "}\n",
    "\n",
    "for model_name, model in models.items():\n",
    "    model.fit(X_train, y_train)"
   ]
  },
  {
   "cell_type": "markdown",
   "metadata": {},
   "source": [
    "Sorter de ulike modellene etter nøyaktighet på valideringsdata (`sklearn.metrics.accuracy_score`)."
   ]
  },
  {
   "cell_type": "code",
   "execution_count": 93,
   "metadata": {},
   "outputs": [
    {
     "name": "stdout",
     "output_type": "stream",
     "text": [
      "                 model  accuracy\n",
      "3  Logistic Regression  0.785047\n",
      "5        Random Forest  0.775701\n",
      "0                kNN-1  0.719626\n",
      "2               kNN-50  0.663551\n",
      "4          Naive Bayes  0.654206\n",
      "6                  SVC  0.654206\n",
      "1               kNN-10  0.644860\n"
     ]
    }
   ],
   "source": [
    "# sjekk nøyaktighet for valideringsdata\n",
    "accuracies = {name: accuracy_score(y_val, model.predict(X_val)) for name, model in models.items()}\n",
    "accuracies_df = pd.DataFrame(accuracies.items(), columns=['model', 'accuracy'])\n",
    "accuracies_df.sort_values(by='accuracy', ascending=False, inplace=True)\n",
    "print(accuracies_df)"
   ]
  },
  {
   "cell_type": "markdown",
   "metadata": {},
   "source": [
    "I stedet for nøyaktighet er det vanlig å bruke log-loss, som tar hensyn til en probabilistisk prediksjon. Sorter de ulike modellene etter log-loss (`sklearn.metrics.log_loss`). "
   ]
  },
  {
   "cell_type": "code",
   "execution_count": 94,
   "metadata": {
    "scrolled": true
   },
   "outputs": [
    {
     "name": "stdout",
     "output_type": "stream",
     "text": [
      "                                                         loss\n",
      "LogisticRegression(max_iter=200)                     0.502013\n",
      "SVC(probability=True)                                0.630017\n",
      "KNeighborsClassifier(n_neighbors=50)                 0.630977\n",
      "(DecisionTreeClassifier(max_features='sqrt', ra...   1.475712\n",
      "KNeighborsClassifier(n_neighbors=10)                 1.951143\n",
      "MultinomialNB()                                      3.040359\n",
      "KNeighborsClassifier(n_neighbors=1)                 10.105697\n"
     ]
    }
   ],
   "source": [
    "# sjekk log loss for valideringsdata\n",
    "losses = {model: log_loss(y_val, model.predict_proba(X_val)) for name, model in models.items()}\n",
    "losses_df = pd.DataFrame(losses, index=['loss']).transpose()\n",
    "losses_df.sort_values(by='loss', inplace=True)\n",
    "print(losses_df) "
   ]
  },
  {
   "cell_type": "markdown",
   "metadata": {},
   "source": [
    "Velg ut den beste modellen (basert på log-loss) og sjekk hvor godt den generaliserer ved å regne ut nøyaktighet og log-loss på testdata. "
   ]
  },
  {
   "cell_type": "code",
   "execution_count": 77,
   "metadata": {},
   "outputs": [
    {
     "name": "stdout",
     "output_type": "stream",
     "text": [
      "Nøyaktighet: 0.7592592592592593\n",
      "Log-loss: 0.47191213662883486\n"
     ]
    }
   ],
   "source": [
    "# sjekk generaliseringsevne\n",
    "best_model = losses_df.index[0]\n",
    "generalization_accuracy = accuracy_score(y_test, best_model.predict(X_test))\n",
    "generalization_logloss = log_loss(y_test, best_model.predict_proba(X_test))\n",
    "print('Nøyaktighet:', generalization_accuracy)\n",
    "print('Log-loss:', generalization_logloss)"
   ]
  },
  {
   "cell_type": "markdown",
   "metadata": {},
   "source": [
    "Gi en oppsummering over hva du har gjort og hva resultatet var. "
   ]
  },
  {
   "cell_type": "markdown",
   "metadata": {},
   "source": [
    "Jeg trente ulike modeller, som kNN og logistisk regresjon. Vi sammenlignet dem basert på nøyaktighet og log-loss, og jeg sjekket deretter hvor godt den beste modellen presterte på testdataene."
   ]
  }
 ],
 "metadata": {
  "celltoolbar": "Tags",
  "kernelspec": {
   "display_name": "Python 3 (ipykernel)",
   "language": "python",
   "name": "python3"
  },
  "language_info": {
   "codemirror_mode": {
    "name": "ipython",
    "version": 3
   },
   "file_extension": ".py",
   "mimetype": "text/x-python",
   "name": "python",
   "nbconvert_exporter": "python",
   "pygments_lexer": "ipython3",
   "version": "3.12.4"
  }
 },
 "nbformat": 4,
 "nbformat_minor": 4
}
