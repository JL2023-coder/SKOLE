{
 "cells": [
  {
   "cell_type": "code",
   "execution_count": 1,
   "id": "f82762d1-b7a8-4b51-8ea5-d3676e23651c",
   "metadata": {},
   "outputs": [],
   "source": [
    "html_content = \"\"\"\n",
    "<!DOCTYPE html>\n",
    "<html lang=\"no\">\n",
    "<head>\n",
    "    <meta charset=\"UTF-8\">\n",
    "    <meta name=\"viewport\" content=\"width=device-width, initial-scale=1.0\">\n",
    "    <title>Titanic Overlevelse Prediksjon</title>\n",
    "</head>\n",
    "<body>\n",
    "    <h1>Prediksjon av Titanic Overlevelse</h1>\n",
    "    <form action=\"/predict\" method=\"POST\">\n",
    "        <label for=\"Pclass\">Klasse (1, 2, 3):</label>\n",
    "        <input type=\"text\" id=\"Pclass\" name=\"Pclass\"><br><br>\n",
    "\n",
    "        <label for=\"Sex\">Kjønn (male/female):</label>\n",
    "        <input type=\"text\" id=\"Sex\" name=\"Sex\"><br><br>\n",
    "\n",
    "        <label for=\"Age\">Alder:</label>\n",
    "        <input type=\"text\" id=\"Age\" name=\"Age\"><br><br>\n",
    "\n",
    "        <label for=\"SibSp\">Søsken/Ektefelle ombord:</label>\n",
    "        <input type=\"text\" id=\"SibSp\" name=\"SibSp\"><br><br>\n",
    "\n",
    "        <label for=\"Parch\">Foreldre/Barn ombord:</label>\n",
    "        <input type=\"text\" id=\"Parch\" name=\"Parch\"><br><br>\n",
    "\n",
    "        <label for=\"Fare\">Billettpris:</label>\n",
    "        <input type=\"text\" id=\"Fare\" name=\"Fare\"><br><br>\n",
    "\n",
    "        <input type=\"submit\" value=\"Predict\">\n",
    "    </form>\n",
    "\n",
    "    {% if prediction %}\n",
    "        <h2>Prediksjon: {{ prediction }}</h2>\n",
    "    {% endif %}\n",
    "</body>\n",
    "</html>\n",
    "\"\"\"\n",
    "\n",
    "with open('index.html', 'w') as f:\n",
    "    f.write(html_content)"
   ]
  }
 ],
 "metadata": {
  "kernelspec": {
   "display_name": "Python 3 (ipykernel)",
   "language": "python",
   "name": "python3"
  },
  "language_info": {
   "codemirror_mode": {
    "name": "ipython",
    "version": 3
   },
   "file_extension": ".py",
   "mimetype": "text/x-python",
   "name": "python",
   "nbconvert_exporter": "python",
   "pygments_lexer": "ipython3",
   "version": "3.12.4"
  }
 },
 "nbformat": 4,
 "nbformat_minor": 5
}
