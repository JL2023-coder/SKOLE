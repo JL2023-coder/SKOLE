{
 "cells": [
  {
   "cell_type": "markdown",
   "metadata": {},
   "source": [
    "## Litt teori\n",
    "\n",
    "Vi starter oppgaven med litt teori om sannsynlighetsfordelinger. "
   ]
  },
  {
   "cell_type": "markdown",
   "metadata": {},
   "source": [
    "I en familie med fire barn, hva er sannsynligheten for at to er gutter og to er jenter?"
   ]
  },
  {
   "cell_type": "markdown",
   "metadata": {},
   "source": [
    "Siden det må være to gutter og to jenter, kan vi sjekke sannsynligheten for nøyaktig to gutter. \n",
    "P(X=2)=((4!)/(2!(4-2)!))*((0.5)^2)*((0.5)^2)=0.375\n",
    "Sannsynligheten er 37.5%"
   ]
  },
  {
   "cell_type": "markdown",
   "metadata": {},
   "source": [
    "Anta at sannsynligheten $P(A) = 0.3$, og betinget sannsynligheter $P(A|B) = 0.5$ og $P(B|A) = 0.2$. Hva er sannsynligheten $P(B)$?"
   ]
  },
  {
   "cell_type": "markdown",
   "metadata": {},
   "source": [
    "P(B|A)=P(A|B)*P(B)/P(A)\n",
    "P(B)=P(B|A)*P(A)/P(A|B)\n",
    "P(B)=0.2*0.3/0.5=0.12"
   ]
  },
  {
   "cell_type": "markdown",
   "metadata": {},
   "source": [
    "Vis at hvis $A \\subseteq B$, så er $P(A) \\le P(B)$."
   ]
  },
  {
   "cell_type": "markdown",
   "metadata": {},
   "source": [
    "B=A∪(B∖A)\n",
    "A og (B∖A) er disjunkte, altå har de ingen felles utfall\n",
    "P(B)=P(A)+P(B∖A)\n",
    "P(B∖A)>=0\n",
    "P(B)>=P(A)"
   ]
  }
 ],
 "metadata": {
  "celltoolbar": "Tags",
  "kernelspec": {
   "display_name": "Python 3 (ipykernel)",
   "language": "python",
   "name": "python3"
  },
  "language_info": {
   "codemirror_mode": {
    "name": "ipython",
    "version": 3
   },
   "file_extension": ".py",
   "mimetype": "text/x-python",
   "name": "python",
   "nbconvert_exporter": "python",
   "pygments_lexer": "ipython3",
   "version": "3.12.4"
  }
 },
 "nbformat": 4,
 "nbformat_minor": 4
}
