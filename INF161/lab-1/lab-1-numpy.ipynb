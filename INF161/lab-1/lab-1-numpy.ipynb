{
 "cells": [
  {
   "cell_type": "markdown",
   "metadata": {},
   "source": [
    "# Data\n",
    "\n",
    "I denne øvelsen vil vi se hvordan du kan manipulere datasett med `numpy` og `pandas`. I data science bruker vi ofte store datasett og det er derfor avgjørende å manipulere datasett på en god måte. \n",
    "\n",
    "I de følgende oppgavene må du alltid erstatte `___` med kode som gjør hva oppgaven spør om. "
   ]
  },
  {
   "cell_type": "markdown",
   "metadata": {},
   "source": [
    "## Grunnlegende om numpy \n",
    "\n",
    "Målet med denne oppgaven er å lære de grunnleggende egenskapene til numpy arrayer og hvordan du effektivt bruker dem i arbeidet ditt. "
   ]
  },
  {
   "cell_type": "markdown",
   "metadata": {},
   "source": [
    "Vi begynner å laste inn `numpy` pakken som `np`. "
   ]
  },
  {
   "cell_type": "code",
   "execution_count": 660,
   "metadata": {},
   "outputs": [],
   "source": [
    "import numpy as np"
   ]
  },
  {
   "cell_type": "markdown",
   "metadata": {},
   "source": [
    "### Lage numpy array\n",
    "\n",
    "Det kan være nyttig å vite hvordan du lager en numpy array fra bunnen av for å teste koden din. For eksempel, når du gjør matematikk med store flerdimensjonale arrays, er det fint å sjekke om matematikken fungerer som forventet på små test arrays før du bruker koden på de større arrayene. numpy har mange alternativer for å lage mindre syntetiske matriser."
   ]
  },
  {
   "cell_type": "markdown",
   "metadata": {},
   "source": [
    "Lag og skriv ut en numpy array som har to rader og fire kolonner fylt med nuller. Tips: Du kan bruke [numpy.zeros](https://numpy.org/doc/stable/reference/generated/numpy.zeros.html) for å gjøre det på en linje. "
   ]
  },
  {
   "cell_type": "code",
   "execution_count": 661,
   "metadata": {},
   "outputs": [
    {
     "name": "stdout",
     "output_type": "stream",
     "text": [
      "[[0. 0. 0. 0.]\n",
      " [0. 0. 0. 0.]]\n"
     ]
    }
   ],
   "source": [
    "# numpy array med nuller\n",
    "zeros_array = np.zeros((2,4))\n",
    "print(zeros_array)"
   ]
  },
  {
   "cell_type": "markdown",
   "metadata": {},
   "source": [
    "Lag og skriv ut en numpy array som har tre rader og seks kolonner fylt med uniformt fordelte tilfeldige tall mellom 0 og 1. Tips: Du kan bruke [numpy.random.uniform](https://numpy.org/doc/stable/reference/random/generated/numpy.random.uniform.html) for å gjøre det på en linje. "
   ]
  },
  {
   "cell_type": "code",
   "execution_count": 662,
   "metadata": {},
   "outputs": [
    {
     "name": "stdout",
     "output_type": "stream",
     "text": [
      "[[0.91671643 0.64891322 0.50366304 0.82136901 0.04466008 0.10064748]\n",
      " [0.47474093 0.58405595 0.89540635 0.04037105 0.46806035 0.05226922]\n",
      " [0.54687639 0.32948849 0.88884177 0.63220226 0.66572192 0.48377817]]\n"
     ]
    }
   ],
   "source": [
    "# numpy array med tilfeldige tall\n",
    "random_array = np.random.uniform(low=0.0, high=1.0, size=(3,6))\n",
    "print(random_array)"
   ]
  },
  {
   "cell_type": "markdown",
   "metadata": {},
   "source": [
    "Lag et 1-dimensjonal numpy array som inneholder 8 jevnt fordelte tall fra 0.3 til 1.7. Tips: Du kan bruke enten [`numpy.arange`](https://numpy.org/doc/stable/reference/generated/numpy.arange.html) eller [`numpy.linspace`](https://numpy.org/doc/stable/reference/generated/numpy.linspace.html) for denne oppgaven. "
   ]
  },
  {
   "cell_type": "code",
   "execution_count": 663,
   "metadata": {},
   "outputs": [
    {
     "name": "stdout",
     "output_type": "stream",
     "text": [
      "[0.3 0.5 0.7 0.9 1.1 1.3 1.5 1.7]\n"
     ]
    }
   ],
   "source": [
    "# numpy array med tall mellom 0.3 og 1.7\n",
    "range_array = np.linspace(0.3, 1.7, num=8)\n",
    "print(range_array)"
   ]
  },
  {
   "cell_type": "markdown",
   "metadata": {},
   "source": [
    "### Dimensjon av numpy array\n",
    "\n",
    "Numpy arrayer har en rekke egenskaper, som størrelsen og antall dimensjoner. Vi må kunne finne de egenskapene. Noen ganger trenger vi også å endre formen på numpy arrayer. "
   ]
  },
  {
   "cell_type": "markdown",
   "metadata": {},
   "source": [
    "Skriv ut formen av `range_array` som du har laget. Tips: Du kan bruke [`shape`](https://numpy.org/doc/stable/reference/generated/numpy.ndarray.shape.html) for å lese formen av en numpy array. "
   ]
  },
  {
   "cell_type": "code",
   "execution_count": 664,
   "metadata": {},
   "outputs": [
    {
     "name": "stdout",
     "output_type": "stream",
     "text": [
      "(8,)\n"
     ]
    }
   ],
   "source": [
    "# formen av range_array\n",
    "array_shape = range_array.shape\n",
    "print(array_shape)"
   ]
  },
  {
   "cell_type": "markdown",
   "metadata": {},
   "source": [
    "Endre dimensjonen til `range_array` sånn at du får et array med 2 kolonner. Målet er å få en array som har tall [0.3, 0.5, 0.7, 0.9] i første kolonnen og tall [1.1, 1.3, 1.5, 1.7] i andre kolonnen. Tips: Du kan løse oppgaven ved å kun bruke [`numpy.reshape`](https://numpy.org/doc/stable/reference/generated/numpy.reshape.html). Alternativt kan du kombinere [`numpy.reshape`](https://numpy.org/doc/stable/reference/generated/numpy.reshape.html) med [`numpy.transpose`](https://numpy.org/doc/stable/reference/generated/numpy.transpose.html) eller med [`numpy.swapaxes`](https://numpy.org/doc/stable/reference/generated/numpy.swapaxes.html) for denne oppgaven. \n",
    "\n",
    "Skriv ut den nye numpy arrayen og dimensjonen av den nye numpy arrayen. "
   ]
  },
  {
   "cell_type": "code",
   "execution_count": 665,
   "metadata": {},
   "outputs": [
    {
     "name": "stdout",
     "output_type": "stream",
     "text": [
      "[[0.3 1.1]\n",
      " [0.5 1.3]\n",
      " [0.7 1.5]\n",
      " [0.9 1.7]]\n",
      "(4, 2)\n"
     ]
    }
   ],
   "source": [
    "# endre formen\n",
    "reshaped_range_array = range_array.reshape(2, 4).T\n",
    "print(reshaped_range_array)\n",
    "# formen av den nye arrayen\n",
    "reshaped_array_shape = reshaped_range_array.shape\n",
    "print(reshaped_array_shape)"
   ]
  },
  {
   "cell_type": "markdown",
   "metadata": {},
   "source": [
    "Bruk [`numpy.flatten`](https://numpy.org/doc/stable/reference/generated/numpy.ndarray.flatten.html) for å lage en 1-dimensjonal numpy array ut av `reshaped_range_array`. Skriv den ut. Er det des samme som `range_array` du begynte med?"
   ]
  },
  {
   "cell_type": "code",
   "execution_count": 666,
   "metadata": {
    "scrolled": true
   },
   "outputs": [
    {
     "name": "stdout",
     "output_type": "stream",
     "text": [
      "[0.3 1.1 0.5 1.3 0.7 1.5 0.9 1.7]\n"
     ]
    }
   ],
   "source": [
    "# flatten\n",
    "flattened_range_array = reshaped_range_array.flatten()\n",
    "print(flattened_range_array)"
   ]
  },
  {
   "cell_type": "markdown",
   "metadata": {},
   "source": [
    "### Kombinere flere array\n",
    "\n",
    "Når vi har data fra forskjellige kilder er det ofte viktig å kunne kombinere de. Her lærer du hvordan å gjøre det med `numpy`. "
   ]
  },
  {
   "cell_type": "markdown",
   "metadata": {},
   "source": [
    "Først lager jeg to matrisser som eksempler. "
   ]
  },
  {
   "cell_type": "code",
   "execution_count": 667,
   "metadata": {
    "scrolled": true
   },
   "outputs": [
    {
     "name": "stdout",
     "output_type": "stream",
     "text": [
      "[[1. 1. 1. 1.]\n",
      " [1. 1. 1. 1.]\n",
      " [1. 1. 1. 1.]]\n",
      "\n",
      "[[ 2  3  4  5]\n",
      " [ 6  7  8  9]\n",
      " [10 11 12 13]]\n"
     ]
    }
   ],
   "source": [
    "# eksempel matriser\n",
    "mat1 = np.ones(shape=(3, 4))\n",
    "mat2 = np.arange(2, 14).reshape(3, 4)\n",
    "print(mat1)\n",
    "print()\n",
    "print(mat2)"
   ]
  },
  {
   "cell_type": "markdown",
   "metadata": {},
   "source": [
    "Det er mange måter å kombinere de matrissene. Her prøver vi det ut på tre forskjellige måter. Kombiner `mat1` med `mat2`, slik at du får\n",
    "- en ny matrisse med 6 rader og 4 kolonner (Tips: Bruk [`numpy.vstack`](https://numpy.org/doc/stable/reference/generated/numpy.vstack.html)), \n",
    "- en ny matrisse med 3 rader og 8 kolonner (Tips: Bruk [`numpy.hstack`](https://numpy.org/doc/stable/reference/generated/numpy.hstack.html)), \n",
    "- en ny 3-dimensjonal numpy array med form (2, 3, 4) (Tips: Bruk [`numpy.stack`](https://numpy.org/doc/stable/reference/generated/numpy.stack.html)). \n",
    "\n",
    "Det er også et valg hvilken av mat1 og mat2 skal komme først i kombinasjonen. Her tar vi alltid mat1 før mat2. "
   ]
  },
  {
   "cell_type": "code",
   "execution_count": 668,
   "metadata": {},
   "outputs": [
    {
     "name": "stdout",
     "output_type": "stream",
     "text": [
      "[[ 1.  1.  1.  1.]\n",
      " [ 1.  1.  1.  1.]\n",
      " [ 1.  1.  1.  1.]\n",
      " [ 2.  3.  4.  5.]\n",
      " [ 6.  7.  8.  9.]\n",
      " [10. 11. 12. 13.]]\n",
      "(6, 4)\n"
     ]
    }
   ],
   "source": [
    "# kombinere slik at det blir 6 rader og 4 kolonner\n",
    "combined_6x4 = np.vstack((mat1,mat2))\n",
    "print(combined_6x4)\n",
    "print(combined_6x4.shape)"
   ]
  },
  {
   "cell_type": "code",
   "execution_count": 669,
   "metadata": {},
   "outputs": [
    {
     "name": "stdout",
     "output_type": "stream",
     "text": [
      "[[ 1.  1.  1.  1.  2.  3.  4.  5.]\n",
      " [ 1.  1.  1.  1.  6.  7.  8.  9.]\n",
      " [ 1.  1.  1.  1. 10. 11. 12. 13.]]\n",
      "(3, 8)\n"
     ]
    }
   ],
   "source": [
    "# kombinere slik at det blir 3 rader og 8 kolonner\n",
    "combined_3x8 = np.hstack((mat1,mat2))\n",
    "print(combined_3x8)\n",
    "print(combined_3x8.shape)"
   ]
  },
  {
   "cell_type": "code",
   "execution_count": 670,
   "metadata": {},
   "outputs": [
    {
     "name": "stdout",
     "output_type": "stream",
     "text": [
      "[[[ 1.  1.  1.  1.]\n",
      "  [ 1.  1.  1.  1.]\n",
      "  [ 1.  1.  1.  1.]]\n",
      "\n",
      " [[ 2.  3.  4.  5.]\n",
      "  [ 6.  7.  8.  9.]\n",
      "  [10. 11. 12. 13.]]]\n",
      "(2, 3, 4)\n"
     ]
    }
   ],
   "source": [
    "# kombinere slik at det blir en array med shape (2, 3, 4)\n",
    "combined_2x3x4 = np.stack((mat1,mat2))\n",
    "print(combined_2x3x4)\n",
    "print(combined_2x3x4.shape)"
   ]
  },
  {
   "cell_type": "markdown",
   "metadata": {},
   "source": [
    "### Undermatriser\n",
    "\n",
    "Når vi har store numpy arrayer, så vil vi ofte kun se på en liten del om gangen. For å gjøre det må vi kunne ta ut undermatrisser. For å velge ut rader og kolonner bruker vi indeksering. Se [`numpy` dokumentasjonen](https://numpy.org/doc/stable/user/basics.indexing.html#basics-indexing) for en god introduksjon til indeksering. \n",
    "\n",
    "Skriv ut følgende undermatriser av `mat2`: \n",
    "  - A: De første to kolonnene\n",
    "  - B: De første to radene og de to første kolonnene. \n",
    "  - C: De siste to radene og kolonnene 0 og 2. \n",
    "  - D: Radene 1 og 2 og kolonnene 0 og 3"
   ]
  },
  {
   "cell_type": "code",
   "execution_count": 671,
   "metadata": {},
   "outputs": [
    {
     "name": "stdout",
     "output_type": "stream",
     "text": [
      "[[ 2  3]\n",
      " [ 6  7]\n",
      " [10 11]]\n"
     ]
    }
   ],
   "source": [
    "# De første to kolonnene\n",
    "matA = mat2[:, :2]\n",
    "print(matA)"
   ]
  },
  {
   "cell_type": "code",
   "execution_count": 672,
   "metadata": {},
   "outputs": [
    {
     "name": "stdout",
     "output_type": "stream",
     "text": [
      "[[2 3]\n",
      " [6 7]]\n"
     ]
    }
   ],
   "source": [
    "# De første to radene og de to første kolonnene. \n",
    "matB = mat2[:2, :2]\n",
    "print(matB)"
   ]
  },
  {
   "cell_type": "code",
   "execution_count": 673,
   "metadata": {},
   "outputs": [
    {
     "name": "stdout",
     "output_type": "stream",
     "text": [
      "[[ 6  8]\n",
      " [10 12]]\n"
     ]
    }
   ],
   "source": [
    "# De siste to radene og kolonnene 0 og 2. \n",
    "matC = mat2[-2:, [0, 2]]\n",
    "print(matC)"
   ]
  },
  {
   "cell_type": "code",
   "execution_count": 674,
   "metadata": {},
   "outputs": [
    {
     "name": "stdout",
     "output_type": "stream",
     "text": [
      "[[ 6  9]\n",
      " [10 13]]\n"
     ]
    }
   ],
   "source": [
    "# Radene 1 og 2 og kolonnene 0 og 3\n",
    "matD = mat2[1:3, [0, 3]]\n",
    "print(matD)"
   ]
  },
  {
   "cell_type": "markdown",
   "metadata": {},
   "source": [
    "### Endre data\n",
    "\n",
    "Når vi har gitt data, så vil vi noen ganger endre på det. For eksempel kan det være at vi har verdier i data som er fysisk umulig, så vi vil sette de til den største mulige verdien."
   ]
  },
  {
   "cell_type": "markdown",
   "metadata": {},
   "source": [
    "Endre `mat2` slik at alle tall mindre enn 5 blir satt til 5 og tall større enn 10 blir satt til 10. Tips: Du kan bruke [`numpy.clip`](https://numpy.org/doc/stable/reference/generated/numpy.clip.html)."
   ]
  },
  {
   "cell_type": "code",
   "execution_count": 675,
   "metadata": {},
   "outputs": [
    {
     "name": "stdout",
     "output_type": "stream",
     "text": [
      "[[ 5  5  5  5]\n",
      " [ 6  7  8  9]\n",
      " [10 10 10 10]]\n"
     ]
    }
   ],
   "source": [
    "# mat2 med verdier mellom 5 og 10\n",
    "clipped_mat2 = mat2.clip(5,10)\n",
    "print(clipped_mat2)"
   ]
  },
  {
   "cell_type": "markdown",
   "metadata": {},
   "source": [
    "I `mat2`, bytt ut alle oddetallene med verdien 1. "
   ]
  },
  {
   "cell_type": "code",
   "execution_count": 676,
   "metadata": {},
   "outputs": [
    {
     "name": "stdout",
     "output_type": "stream",
     "text": [
      "[[ 2  1  4  1]\n",
      " [ 6  1  8  1]\n",
      " [10  1 12  1]]\n"
     ]
    }
   ],
   "source": [
    "# bytte ut alle oddetallene med verdien 1\n",
    "odd_mat2 = mat2.copy() # kopier mat2 til en ny numpy array odd_mat2\n",
    "oddetall = (odd_mat2 % 2 != 0)\n",
    "odd_mat2[oddetall] = 1\n",
    "print(odd_mat2)"
   ]
  },
  {
   "cell_type": "markdown",
   "metadata": {},
   "source": [
    "Merk at alle tall i `mat2` er lagret som integer. Gjør de om til `float`. Tips: Bruk [numpy.astype](https://numpy.org/doc/stable/reference/generated/numpy.ndarray.astype.html). "
   ]
  },
  {
   "cell_type": "code",
   "execution_count": 677,
   "metadata": {
    "tags": [
     "solution"
    ]
   },
   "outputs": [
    {
     "name": "stdout",
     "output_type": "stream",
     "text": [
      "[[ 2.  3.  4.  5.]\n",
      " [ 6.  7.  8.  9.]\n",
      " [10. 11. 12. 13.]]\n",
      "int64\n",
      "float64\n"
     ]
    }
   ],
   "source": [
    "# gjør om til float\n",
    "mat2_float = mat2.astype(float)\n",
    "print(mat2_float)\n",
    "print(mat2.dtype)\n",
    "print(mat2_float.dtype)"
   ]
  },
  {
   "cell_type": "markdown",
   "metadata": {},
   "source": [
    "Når vi skriver det ut så ser vi at float skrives med `2.` mens int skrives `2` uten punktum. "
   ]
  },
  {
   "cell_type": "markdown",
   "metadata": {},
   "source": [
    "### Matematikk med numpy "
   ]
  },
  {
   "cell_type": "markdown",
   "metadata": {},
   "source": [
    "Multipliser alle elementene i `mat2` med `2`. Tips: Ikke bruk løkker, du kan bruke `*` med numpy arrayer. "
   ]
  },
  {
   "cell_type": "code",
   "execution_count": 678,
   "metadata": {},
   "outputs": [
    {
     "name": "stdout",
     "output_type": "stream",
     "text": [
      "[[ 4  6  8 10]\n",
      " [12 14 16 18]\n",
      " [20 22 24 26]]\n"
     ]
    }
   ],
   "source": [
    "# 2 ganger mat2\n",
    "mat_2x2 = mat2*2\n",
    "print(mat_2x2)"
   ]
  },
  {
   "cell_type": "markdown",
   "metadata": {},
   "source": [
    "Regn ut summen av `mat1` og `mat2`. Tips: du kan bruke vanlig `+`. "
   ]
  },
  {
   "cell_type": "code",
   "execution_count": 679,
   "metadata": {},
   "outputs": [
    {
     "name": "stdout",
     "output_type": "stream",
     "text": [
      "[[ 3.  4.  5.  6.]\n",
      " [ 7.  8.  9. 10.]\n",
      " [11. 12. 13. 14.]]\n"
     ]
    }
   ],
   "source": [
    "# summen\n",
    "mat_sum = mat1 + mat2\n",
    "print(mat_sum)"
   ]
  },
  {
   "cell_type": "markdown",
   "metadata": {},
   "source": [
    "Regn ut logaritmen av alle elementene i `mat2`. Tips: Bruk [`numpy.log`](https://numpy.org/doc/stable/reference/generated/numpy.log.html)."
   ]
  },
  {
   "cell_type": "code",
   "execution_count": 680,
   "metadata": {},
   "outputs": [
    {
     "name": "stdout",
     "output_type": "stream",
     "text": [
      "[[0.69314718 1.09861229 1.38629436 1.60943791]\n",
      " [1.79175947 1.94591015 2.07944154 2.19722458]\n",
      " [2.30258509 2.39789527 2.48490665 2.56494936]]\n"
     ]
    }
   ],
   "source": [
    "# logaritmen\n",
    "log_mat = np.log(mat2)\n",
    "print(log_mat)"
   ]
  },
  {
   "cell_type": "markdown",
   "metadata": {},
   "source": [
    "Regn ut maksimalverdien i `mat2`. Tips: Bruk [`numpy.max`](https://numpy.org/doc/stable/reference/generated/numpy.ndarray.max.html)."
   ]
  },
  {
   "cell_type": "code",
   "execution_count": 681,
   "metadata": {},
   "outputs": [
    {
     "name": "stdout",
     "output_type": "stream",
     "text": [
      "13\n"
     ]
    }
   ],
   "source": [
    "# maximum\n",
    "mat_max = mat2.max()\n",
    "print(mat_max)"
   ]
  },
  {
   "cell_type": "markdown",
   "metadata": {},
   "source": [
    "For hver kolonne i `mat2`, regn ut summen. Tips: Bruk [`numpy.sum`](https://numpy.org/doc/stable/reference/generated/numpy.ndarray.sum.html) med `axis`-argumentet."
   ]
  },
  {
   "cell_type": "code",
   "execution_count": 682,
   "metadata": {},
   "outputs": [
    {
     "name": "stdout",
     "output_type": "stream",
     "text": [
      "[18 21 24 27]\n"
     ]
    }
   ],
   "source": [
    "# summe per kolonne\n",
    "mat_sums = mat2.sum(0)\n",
    "print(mat_sums)"
   ]
  },
  {
   "cell_type": "markdown",
   "metadata": {},
   "source": [
    "### Kombiner det du har lært\n",
    "\n",
    "Så lenge fikk du beskjed på hvert steg hva du skal gjøre og hva slags funksjon som du kan bruke. Nå skal vi prøve å kombinere de forskjellige ting du har lært. \n",
    "\n",
    "1. Lag en numpy-array `mat` som består av tre kolonner og 100 rader. Den første kolonnen skal inneholde jevnt fordelte tall fra 0 til 2. Den andre kolonnen skal inneholde uniformt fordelte tilfeldige tall mellom 0 og 5. Den tredje kolonnen skal inneholde et 2-tall hvis den andre kolonnen er større enn 4 og et 0-tall ellers. \n",
    "2. Skriv ut de første 10 radene av `mat`. \n",
    "3. Finn ut hvor mange av radene har en verdi i andre kolonnen som er større enn 4. \n",
    "4. Regn ut maximalverdien av den andre kolonnen. \n",
    "5. Regn ut summen av alle den andre kolonnen for alle rad der den andre kolonnen er større enn 4. \n",
    "6. Endre alle datapunkter som var større enn 4 til 4. Hvordan har resultatene av spørsmål 4 og 5 forandret seg? "
   ]
  },
  {
   "cell_type": "code",
   "execution_count": 683,
   "metadata": {},
   "outputs": [
    {
     "name": "stdout",
     "output_type": "stream",
     "text": [
      "[[0.         1.33991238 0.        ]\n",
      " [0.02020202 2.99741742 0.        ]\n",
      " [0.04040404 2.22579975 0.        ]\n",
      " [0.06060606 4.19088608 0.        ]\n",
      " [0.08080808 4.01078122 0.        ]\n",
      " [0.1010101  4.67366838 0.        ]\n",
      " [0.12121212 1.23629532 0.        ]\n",
      " [0.14141414 0.81356061 0.        ]\n",
      " [0.16161616 4.79912842 0.        ]\n",
      " [0.18181818 0.28189409 2.        ]]\n",
      "229.52244892352897\n"
     ]
    }
   ],
   "source": [
    "# din kode her\n",
    "# jevnt fordelte tall mellom 0 og 2\n",
    "col1 = np.linspace(0, 2, num=100)\n",
    "# uniformt fordelte tilfeldige tall mellom 0 og 5\n",
    "col2 = np.random.uniform(low=0.0, high=5.0, size=100)\n",
    "# skal inneholde et 2-tall hvis den andre kolonnen er større enn 4 og et 0-tall ellers\n",
    "col3 = np.where(col2 > 4, 2, 0)\n",
    "# mat100*3 bestående av first, second and third\n",
    "mat_comb = np.column_stack((col1, col2, col3))\n",
    "# skriv ut de 10 første radene\n",
    "mat10 = mat_comb[:10]\n",
    "print(mat10)\n",
    "# antall rader med større verdi enn 4\n",
    "count_over_4 = np.sum(mat_comb[:, 1] > 4)\n",
    "# max verdi i col2\n",
    "max_val = np.max(col2)\n",
    "# sum av alle verdier høyere enn 4 i col2\n",
    "np.sum(mat_comb[mat_comb[:, 1] > 4, 1])\n",
    "# endre alle datapunkter sov var større en 4 til fire\n",
    "mat_comb = np.clip(mat_comb, None, 4)\n",
    "# resultatene har ikke endret seg, hvis de ikke blir oppdatert i forhold til de nye dataene\n",
    "# hvis vi tar utganspunkt i de nye dataene vil 4. max_val = 4, og 5. sum_val_over_4 = 0"
   ]
  },
  {
   "cell_type": "code",
   "execution_count": null,
   "metadata": {},
   "outputs": [],
   "source": []
  },
  {
   "cell_type": "code",
   "execution_count": null,
   "metadata": {},
   "outputs": [],
   "source": []
  }
 ],
 "metadata": {
  "celltoolbar": "Tags",
  "kernelspec": {
   "display_name": "Python 3 (ipykernel)",
   "language": "python",
   "name": "python3"
  },
  "language_info": {
   "codemirror_mode": {
    "name": "ipython",
    "version": 3
   },
   "file_extension": ".py",
   "mimetype": "text/x-python",
   "name": "python",
   "nbconvert_exporter": "python",
   "pygments_lexer": "ipython3",
   "version": "3.12.4"
  }
 },
 "nbformat": 4,
 "nbformat_minor": 4
}
