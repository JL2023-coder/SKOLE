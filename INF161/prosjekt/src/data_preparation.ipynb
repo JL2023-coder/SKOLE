{
 "cells": [
  {
   "cell_type": "markdown",
   "id": "2b40ee5c-1c86-46b2-85cf-0a05337bf21e",
   "metadata": {},
   "source": [
    "# Prepare Data\n",
    "___"
   ]
  },
  {
   "cell_type": "markdown",
   "id": "ba75f66a-e3f5-4b01-a0b7-b6ffe0bb31cf",
   "metadata": {},
   "source": [
    "### Import Packages\n",
    "___"
   ]
  },
  {
   "cell_type": "code",
   "execution_count": 1,
   "id": "305874b4-7e4b-4509-bde6-58e793df59e8",
   "metadata": {},
   "outputs": [],
   "source": [
    "import pandas as pd\n",
    "import numpy as np\n",
    "\n",
    "from sklearn.model_selection import train_test_split"
   ]
  },
  {
   "cell_type": "markdown",
   "id": "9042f4b7-955b-4043-ba64-0399c706dbcf",
   "metadata": {},
   "source": [
    "### Read Data\n",
    "___"
   ]
  },
  {
   "cell_type": "code",
   "execution_count": 2,
   "id": "fc7a5112-5f5e-4b37-ad85-b944b13343d7",
   "metadata": {},
   "outputs": [],
   "source": [
    "demo_raw_df = pd.read_csv('../raw_data/demographic.csv')\n",
    "hosp_raw_df = pd.read_csv('../raw_data/hospital.csv')\n",
    "phys_raw_df = pd.read_csv('../raw_data/physiological.txt', sep='\\t')\n",
    "severity_raw_df = pd.read_json('../raw_data/severity.json')"
   ]
  },
  {
   "cell_type": "markdown",
   "id": "870aab84-8f8e-4e03-88f2-793b60aa73ea",
   "metadata": {},
   "source": [
    "We make a copy of each dataset to avoid making modifications to the original"
   ]
  },
  {
   "cell_type": "code",
   "execution_count": 3,
   "id": "62f2b1dc-45f1-47d5-9595-7da41ddcba54",
   "metadata": {},
   "outputs": [],
   "source": [
    "demo_df = demo_raw_df.copy()\n",
    "hosp_df = hosp_raw_df.copy()\n",
    "phys_df = phys_raw_df.copy()\n",
    "severity_df = severity_raw_df.copy()"
   ]
  },
  {
   "cell_type": "markdown",
   "id": "7eaedea7-0589-4c27-880d-cfe66ef0e915",
   "metadata": {},
   "source": [
    "### Demographic\n",
    "___"
   ]
  },
  {
   "cell_type": "markdown",
   "id": "4fad8c5a-5971-4fd4-9cf7-d9610b138a20",
   "metadata": {},
   "source": [
    "#### Checking data\n",
    "___"
   ]
  },
  {
   "cell_type": "markdown",
   "id": "7eb5f7ad-be50-47f0-8edd-599b74b9872d",
   "metadata": {},
   "source": [
    "Before we start to modify and prepare the data, we will first check what type of data we are dealing with. \n",
    "We use .head to get an insight in what each dataset contains. "
   ]
  },
  {
   "cell_type": "code",
   "execution_count": 4,
   "id": "3f27e632-e4c3-4050-8d17-56b63b4f11d6",
   "metadata": {},
   "outputs": [
    {
     "data": {
      "text/html": [
       "<div>\n",
       "<style scoped>\n",
       "    .dataframe tbody tr th:only-of-type {\n",
       "        vertical-align: middle;\n",
       "    }\n",
       "\n",
       "    .dataframe tbody tr th {\n",
       "        vertical-align: top;\n",
       "    }\n",
       "\n",
       "    .dataframe thead th {\n",
       "        text-align: right;\n",
       "    }\n",
       "</style>\n",
       "<table border=\"1\" class=\"dataframe\">\n",
       "  <thead>\n",
       "    <tr style=\"text-align: right;\">\n",
       "      <th></th>\n",
       "      <th>pasient_id</th>\n",
       "      <th>alder</th>\n",
       "      <th>kjønn</th>\n",
       "      <th>utdanning</th>\n",
       "      <th>inntekt</th>\n",
       "      <th>etnisitet</th>\n",
       "    </tr>\n",
       "  </thead>\n",
       "  <tbody>\n",
       "    <tr>\n",
       "      <th>0</th>\n",
       "      <td>2</td>\n",
       "      <td>60.33899</td>\n",
       "      <td>female</td>\n",
       "      <td>12.0</td>\n",
       "      <td>$11-$25k</td>\n",
       "      <td>white</td>\n",
       "    </tr>\n",
       "    <tr>\n",
       "      <th>1</th>\n",
       "      <td>3</td>\n",
       "      <td>52.74698</td>\n",
       "      <td>female</td>\n",
       "      <td>12.0</td>\n",
       "      <td>under $11k</td>\n",
       "      <td>white</td>\n",
       "    </tr>\n",
       "    <tr>\n",
       "      <th>2</th>\n",
       "      <td>4</td>\n",
       "      <td>42.38498</td>\n",
       "      <td>female</td>\n",
       "      <td>11.0</td>\n",
       "      <td>under $11k</td>\n",
       "      <td>white</td>\n",
       "    </tr>\n",
       "    <tr>\n",
       "      <th>3</th>\n",
       "      <td>5</td>\n",
       "      <td>79.88495</td>\n",
       "      <td>female</td>\n",
       "      <td>NaN</td>\n",
       "      <td>NaN</td>\n",
       "      <td>white</td>\n",
       "    </tr>\n",
       "    <tr>\n",
       "      <th>4</th>\n",
       "      <td>6</td>\n",
       "      <td>93.01599</td>\n",
       "      <td>male</td>\n",
       "      <td>14.0</td>\n",
       "      <td>NaN</td>\n",
       "      <td>white</td>\n",
       "    </tr>\n",
       "  </tbody>\n",
       "</table>\n",
       "</div>"
      ],
      "text/plain": [
       "   pasient_id     alder   kjønn  utdanning     inntekt etnisitet\n",
       "0           2  60.33899  female       12.0    $11-$25k     white\n",
       "1           3  52.74698  female       12.0  under $11k     white\n",
       "2           4  42.38498  female       11.0  under $11k     white\n",
       "3           5  79.88495  female        NaN         NaN     white\n",
       "4           6  93.01599    male       14.0         NaN     white"
      ]
     },
     "execution_count": 4,
     "metadata": {},
     "output_type": "execute_result"
    }
   ],
   "source": [
    "demo_df.head()"
   ]
  },
  {
   "cell_type": "markdown",
   "id": "4d631dcd-01ec-4e41-be8a-19a1466210cc",
   "metadata": {},
   "source": [
    "#### Checking types\n",
    "___"
   ]
  },
  {
   "cell_type": "markdown",
   "id": "df0c7a52-2bd5-4de5-b860-9f649d095809",
   "metadata": {},
   "source": [
    "We use .dtypes to check what type of value each column contains, we need to know the value type to know which operations we can use on the data. We cant take the mean of a string. "
   ]
  },
  {
   "cell_type": "code",
   "execution_count": 5,
   "id": "63596b2f-2d9f-4505-9061-5dded814217a",
   "metadata": {},
   "outputs": [
    {
     "data": {
      "text/plain": [
       "pasient_id      int64\n",
       "alder         float64\n",
       "kjønn          object\n",
       "utdanning     float64\n",
       "inntekt        object\n",
       "etnisitet      object\n",
       "dtype: object"
      ]
     },
     "execution_count": 5,
     "metadata": {},
     "output_type": "execute_result"
    }
   ],
   "source": [
    "demo_df.dtypes"
   ]
  },
  {
   "cell_type": "markdown",
   "id": "33abab99-8c87-4034-8a3f-5d743c597725",
   "metadata": {},
   "source": [
    "As we can see, both kjønn, inntekt and etnisitet have type object. These types need dummies to be used in the machine learning model. Salary could often be converted to int or float, however the way it is categorized in the data set, it makes more sense to give it dummies."
   ]
  },
  {
   "cell_type": "code",
   "execution_count": 6,
   "id": "50980717-a118-4990-bc0b-071c8225fce2",
   "metadata": {},
   "outputs": [
    {
     "name": "stdout",
     "output_type": "stream",
     "text": [
      "   pasient_id     alder  utdanning  inntekt_$25-$50k  inntekt_>$50k  \\\n",
      "0           2  60.33899       12.0             False          False   \n",
      "1           3  52.74698       12.0             False          False   \n",
      "2           4  42.38498       11.0             False          False   \n",
      "3           5  79.88495        NaN             False          False   \n",
      "4           6  93.01599       14.0             False          False   \n",
      "\n",
      "   inntekt_under $11k  kjønn_male  etnisitet_black  etnisitet_hispanic  \\\n",
      "0               False       False            False               False   \n",
      "1                True       False            False               False   \n",
      "2                True       False            False               False   \n",
      "3               False       False            False               False   \n",
      "4               False        True            False               False   \n",
      "\n",
      "   etnisitet_other  etnisitet_white  \n",
      "0            False             True  \n",
      "1            False             True  \n",
      "2            False             True  \n",
      "3            False             True  \n",
      "4            False             True  \n"
     ]
    }
   ],
   "source": [
    "demo_df = pd.get_dummies(demo_df, columns=['inntekt', 'kjønn', 'etnisitet'], drop_first=True)\n",
    "print(demo_df.head())"
   ]
  },
  {
   "cell_type": "markdown",
   "id": "54c2695c-b168-4c62-bf83-76eb5fcfe9e0",
   "metadata": {},
   "source": [
    "#### Checking key stats\n",
    "___"
   ]
  },
  {
   "cell_type": "markdown",
   "id": "af5dbc60-3323-4f3c-b146-153dd668de62",
   "metadata": {},
   "source": [
    "We will also use .describe to get key stats from the dataset. This is important to find flaws in data that we are given, and that needs to be cleaned. As an example we know that someone can not have an age of -1. When encountering invalid data there are multiple methods on how to handle them, the easiest way would be to remove the whole row. Another method is to switch the invalid value with NaN or null. \n",
    "\n",
    "When it comes to age it is also possible to switch the invalid data out with the mean or median, in cases where there are only a few instances of invalid data removing them could be fine, however if it is more common and a large pool of the dataset has invalid values imputing them would be preferred, if the latter is the case, i would switch it out with the mean. "
   ]
  },
  {
   "cell_type": "code",
   "execution_count": 7,
   "id": "8abbc065-b13c-4819-b6fa-297ef28fda7d",
   "metadata": {},
   "outputs": [
    {
     "data": {
      "text/html": [
       "<div>\n",
       "<style scoped>\n",
       "    .dataframe tbody tr th:only-of-type {\n",
       "        vertical-align: middle;\n",
       "    }\n",
       "\n",
       "    .dataframe tbody tr th {\n",
       "        vertical-align: top;\n",
       "    }\n",
       "\n",
       "    .dataframe thead th {\n",
       "        text-align: right;\n",
       "    }\n",
       "</style>\n",
       "<table border=\"1\" class=\"dataframe\">\n",
       "  <thead>\n",
       "    <tr style=\"text-align: right;\">\n",
       "      <th></th>\n",
       "      <th>pasient_id</th>\n",
       "      <th>alder</th>\n",
       "      <th>utdanning</th>\n",
       "    </tr>\n",
       "  </thead>\n",
       "  <tbody>\n",
       "    <tr>\n",
       "      <th>count</th>\n",
       "      <td>7742.000000</td>\n",
       "      <td>7742.000000</td>\n",
       "      <td>6360.000000</td>\n",
       "    </tr>\n",
       "    <tr>\n",
       "      <th>mean</th>\n",
       "      <td>4539.500517</td>\n",
       "      <td>62.710904</td>\n",
       "      <td>11.752987</td>\n",
       "    </tr>\n",
       "    <tr>\n",
       "      <th>std</th>\n",
       "      <td>2637.118792</td>\n",
       "      <td>15.688113</td>\n",
       "      <td>3.458671</td>\n",
       "    </tr>\n",
       "    <tr>\n",
       "      <th>min</th>\n",
       "      <td>2.000000</td>\n",
       "      <td>-1.000000</td>\n",
       "      <td>0.000000</td>\n",
       "    </tr>\n",
       "    <tr>\n",
       "      <th>25%</th>\n",
       "      <td>2243.250000</td>\n",
       "      <td>52.915240</td>\n",
       "      <td>10.000000</td>\n",
       "    </tr>\n",
       "    <tr>\n",
       "      <th>50%</th>\n",
       "      <td>4538.500000</td>\n",
       "      <td>65.008000</td>\n",
       "      <td>12.000000</td>\n",
       "    </tr>\n",
       "    <tr>\n",
       "      <th>75%</th>\n",
       "      <td>6815.750000</td>\n",
       "      <td>74.131487</td>\n",
       "      <td>14.000000</td>\n",
       "    </tr>\n",
       "    <tr>\n",
       "      <th>max</th>\n",
       "      <td>9105.000000</td>\n",
       "      <td>101.847960</td>\n",
       "      <td>31.000000</td>\n",
       "    </tr>\n",
       "  </tbody>\n",
       "</table>\n",
       "</div>"
      ],
      "text/plain": [
       "        pasient_id        alder    utdanning\n",
       "count  7742.000000  7742.000000  6360.000000\n",
       "mean   4539.500517    62.710904    11.752987\n",
       "std    2637.118792    15.688113     3.458671\n",
       "min       2.000000    -1.000000     0.000000\n",
       "25%    2243.250000    52.915240    10.000000\n",
       "50%    4538.500000    65.008000    12.000000\n",
       "75%    6815.750000    74.131487    14.000000\n",
       "max    9105.000000   101.847960    31.000000"
      ]
     },
     "execution_count": 7,
     "metadata": {},
     "output_type": "execute_result"
    }
   ],
   "source": [
    "demo_raw_df.describe()"
   ]
  },
  {
   "cell_type": "markdown",
   "id": "a758fe6d-831a-46ec-aec2-35a245daec20",
   "metadata": {},
   "source": [
    "As we can see the minimum age is -1, this is inavlid data and needs to be modified, if the datasets have few invalid instances these will be removed later, for now we will set the value to NaN to not corrupt furter analysis of statistical computations, like mean or median. "
   ]
  },
  {
   "cell_type": "code",
   "execution_count": 8,
   "id": "5d61ce99-a6dc-4ce8-bdfc-1159eac80cb7",
   "metadata": {},
   "outputs": [],
   "source": [
    "demo_df.loc[demo_df['alder'] < 0, 'alder'] = np.nan"
   ]
  },
  {
   "cell_type": "markdown",
   "id": "8e51a8d6-194f-4873-b85c-1e05130d0b20",
   "metadata": {},
   "source": [
    "#### Checking missing data\n",
    "___"
   ]
  },
  {
   "cell_type": "markdown",
   "id": "8f183a19-4358-40b6-8632-f6528a315916",
   "metadata": {},
   "source": [
    "We will be handling the missing data after the datasets are combined"
   ]
  },
  {
   "cell_type": "code",
   "execution_count": 9,
   "id": "cd6df2be-b1b9-4ea8-aee6-2c9e203af3ac",
   "metadata": {},
   "outputs": [
    {
     "data": {
      "text/plain": [
       "pasient_id               0\n",
       "alder                    5\n",
       "utdanning             1382\n",
       "inntekt_$25-$50k         0\n",
       "inntekt_>$50k            0\n",
       "inntekt_under $11k       0\n",
       "kjønn_male               0\n",
       "etnisitet_black          0\n",
       "etnisitet_hispanic       0\n",
       "etnisitet_other          0\n",
       "etnisitet_white          0\n",
       "dtype: int64"
      ]
     },
     "execution_count": 9,
     "metadata": {},
     "output_type": "execute_result"
    }
   ],
   "source": [
    "demo_df.isnull().sum()"
   ]
  },
  {
   "cell_type": "markdown",
   "id": "4ee076d6-48ec-450e-8e5c-eba245271701",
   "metadata": {},
   "source": [
    "#### Checking and removing duplicates\n",
    "___"
   ]
  },
  {
   "cell_type": "markdown",
   "id": "c348cf31-6681-44b2-b139-6624e1513353",
   "metadata": {},
   "source": [
    "We also need to check for duplicate data, and remove it. "
   ]
  },
  {
   "cell_type": "code",
   "execution_count": 10,
   "id": "befc60fe-baed-4141-8695-f7bb5442d344",
   "metadata": {},
   "outputs": [
    {
     "name": "stdout",
     "output_type": "stream",
     "text": [
      "Duplicates before : 2\n",
      "Duplicates after : 0\n"
     ]
    }
   ],
   "source": [
    "duplicate_count_before = demo_df.duplicated().sum()\n",
    "print(f\"Duplicates before : {duplicate_count_before}\")\n",
    "\n",
    "demo_df = demo_df.drop_duplicates()\n",
    "\n",
    "duplicate_count_after = demo_df.duplicated().sum()\n",
    "print(f\"Duplicates after : {duplicate_count_after}\")"
   ]
  },
  {
   "cell_type": "markdown",
   "id": "47caa2c3-5db4-4316-ad0f-75066bd8a862",
   "metadata": {},
   "source": [
    "As we can see, we have removed two duplicates. "
   ]
  },
  {
   "cell_type": "markdown",
   "id": "f3664456-40f5-494a-9d1c-309dd4d13114",
   "metadata": {},
   "source": [
    "We will now repeat the same process with the hospital data."
   ]
  },
  {
   "cell_type": "markdown",
   "id": "354ce05f-0a2a-4e2a-8d41-13796b903063",
   "metadata": {},
   "source": [
    "###  Hospital\n",
    "___"
   ]
  },
  {
   "cell_type": "markdown",
   "id": "bd84f03c-4184-4186-8151-37cb79b70e47",
   "metadata": {},
   "source": [
    "#### Checking data\n",
    "___"
   ]
  },
  {
   "cell_type": "code",
   "execution_count": 11,
   "id": "17d2e9b0-784b-41a7-ae40-d0fdfcd9281a",
   "metadata": {},
   "outputs": [
    {
     "data": {
      "text/html": [
       "<div>\n",
       "<style scoped>\n",
       "    .dataframe tbody tr th:only-of-type {\n",
       "        vertical-align: middle;\n",
       "    }\n",
       "\n",
       "    .dataframe tbody tr th {\n",
       "        vertical-align: top;\n",
       "    }\n",
       "\n",
       "    .dataframe thead th {\n",
       "        text-align: right;\n",
       "    }\n",
       "</style>\n",
       "<table border=\"1\" class=\"dataframe\">\n",
       "  <thead>\n",
       "    <tr style=\"text-align: right;\">\n",
       "      <th></th>\n",
       "      <th>pasient_id</th>\n",
       "      <th>sykehusdød</th>\n",
       "      <th>oppholdslengde</th>\n",
       "    </tr>\n",
       "  </thead>\n",
       "  <tbody>\n",
       "    <tr>\n",
       "      <th>0</th>\n",
       "      <td>2</td>\n",
       "      <td>1</td>\n",
       "      <td>4</td>\n",
       "    </tr>\n",
       "    <tr>\n",
       "      <th>1</th>\n",
       "      <td>3</td>\n",
       "      <td>0</td>\n",
       "      <td>17</td>\n",
       "    </tr>\n",
       "    <tr>\n",
       "      <th>2</th>\n",
       "      <td>4</td>\n",
       "      <td>0</td>\n",
       "      <td>3</td>\n",
       "    </tr>\n",
       "    <tr>\n",
       "      <th>3</th>\n",
       "      <td>5</td>\n",
       "      <td>0</td>\n",
       "      <td>-99</td>\n",
       "    </tr>\n",
       "    <tr>\n",
       "      <th>4</th>\n",
       "      <td>6</td>\n",
       "      <td>1</td>\n",
       "      <td>4</td>\n",
       "    </tr>\n",
       "  </tbody>\n",
       "</table>\n",
       "</div>"
      ],
      "text/plain": [
       "   pasient_id  sykehusdød  oppholdslengde\n",
       "0           2           1               4\n",
       "1           3           0              17\n",
       "2           4           0               3\n",
       "3           5           0             -99\n",
       "4           6           1               4"
      ]
     },
     "execution_count": 11,
     "metadata": {},
     "output_type": "execute_result"
    }
   ],
   "source": [
    "hosp_df.head()"
   ]
  },
  {
   "cell_type": "markdown",
   "id": "ff9b17c3-e22a-474b-96b8-10c3789fe82c",
   "metadata": {},
   "source": [
    "#### Checking types\n",
    "___"
   ]
  },
  {
   "cell_type": "code",
   "execution_count": 12,
   "id": "925092b0-1e32-4340-80ee-9d931cf53a35",
   "metadata": {},
   "outputs": [
    {
     "data": {
      "text/plain": [
       "pasient_id        int64\n",
       "sykehusdød        int64\n",
       "oppholdslengde    int64\n",
       "dtype: object"
      ]
     },
     "execution_count": 12,
     "metadata": {},
     "output_type": "execute_result"
    }
   ],
   "source": [
    "hosp_df.dtypes"
   ]
  },
  {
   "cell_type": "markdown",
   "id": "88a67f25-1946-40dd-b3eb-784603d8446c",
   "metadata": {},
   "source": [
    "#### Checking key stats\n",
    "___"
   ]
  },
  {
   "cell_type": "code",
   "execution_count": 13,
   "id": "a5ff7925-84b9-4021-8284-17521dae6dc1",
   "metadata": {},
   "outputs": [
    {
     "data": {
      "text/html": [
       "<div>\n",
       "<style scoped>\n",
       "    .dataframe tbody tr th:only-of-type {\n",
       "        vertical-align: middle;\n",
       "    }\n",
       "\n",
       "    .dataframe tbody tr th {\n",
       "        vertical-align: top;\n",
       "    }\n",
       "\n",
       "    .dataframe thead th {\n",
       "        text-align: right;\n",
       "    }\n",
       "</style>\n",
       "<table border=\"1\" class=\"dataframe\">\n",
       "  <thead>\n",
       "    <tr style=\"text-align: right;\">\n",
       "      <th></th>\n",
       "      <th>pasient_id</th>\n",
       "      <th>sykehusdød</th>\n",
       "      <th>oppholdslengde</th>\n",
       "    </tr>\n",
       "  </thead>\n",
       "  <tbody>\n",
       "    <tr>\n",
       "      <th>count</th>\n",
       "      <td>7740.000000</td>\n",
       "      <td>7740.000000</td>\n",
       "      <td>7740.000000</td>\n",
       "    </tr>\n",
       "    <tr>\n",
       "      <th>mean</th>\n",
       "      <td>4540.665375</td>\n",
       "      <td>0.263178</td>\n",
       "      <td>17.728682</td>\n",
       "    </tr>\n",
       "    <tr>\n",
       "      <th>std</th>\n",
       "      <td>2636.463416</td>\n",
       "      <td>0.440387</td>\n",
       "      <td>21.995401</td>\n",
       "    </tr>\n",
       "    <tr>\n",
       "      <th>min</th>\n",
       "      <td>2.000000</td>\n",
       "      <td>0.000000</td>\n",
       "      <td>-99.000000</td>\n",
       "    </tr>\n",
       "    <tr>\n",
       "      <th>25%</th>\n",
       "      <td>2244.750000</td>\n",
       "      <td>0.000000</td>\n",
       "      <td>6.000000</td>\n",
       "    </tr>\n",
       "    <tr>\n",
       "      <th>50%</th>\n",
       "      <td>4539.500000</td>\n",
       "      <td>0.000000</td>\n",
       "      <td>11.000000</td>\n",
       "    </tr>\n",
       "    <tr>\n",
       "      <th>75%</th>\n",
       "      <td>6816.250000</td>\n",
       "      <td>1.000000</td>\n",
       "      <td>20.000000</td>\n",
       "    </tr>\n",
       "    <tr>\n",
       "      <th>max</th>\n",
       "      <td>9105.000000</td>\n",
       "      <td>1.000000</td>\n",
       "      <td>343.000000</td>\n",
       "    </tr>\n",
       "  </tbody>\n",
       "</table>\n",
       "</div>"
      ],
      "text/plain": [
       "        pasient_id   sykehusdød  oppholdslengde\n",
       "count  7740.000000  7740.000000     7740.000000\n",
       "mean   4540.665375     0.263178       17.728682\n",
       "std    2636.463416     0.440387       21.995401\n",
       "min       2.000000     0.000000      -99.000000\n",
       "25%    2244.750000     0.000000        6.000000\n",
       "50%    4539.500000     0.000000       11.000000\n",
       "75%    6816.250000     1.000000       20.000000\n",
       "max    9105.000000     1.000000      343.000000"
      ]
     },
     "execution_count": 13,
     "metadata": {},
     "output_type": "execute_result"
    }
   ],
   "source": [
    "hosp_df.describe()"
   ]
  },
  {
   "cell_type": "markdown",
   "id": "e8acebee-6577-4247-ba01-0f6fd8856d40",
   "metadata": {},
   "source": [
    "As you can see, we have pasients with an oppholdslengde of less than zero, this is not possible, and since we are creating a macjine learning model that tries to predict oppholdslengde, we will remove these rows. "
   ]
  },
  {
   "cell_type": "code",
   "execution_count": 14,
   "id": "731ff4ed-5ea7-4100-9d4f-168c2bb028e7",
   "metadata": {},
   "outputs": [
    {
     "data": {
      "text/html": [
       "<div>\n",
       "<style scoped>\n",
       "    .dataframe tbody tr th:only-of-type {\n",
       "        vertical-align: middle;\n",
       "    }\n",
       "\n",
       "    .dataframe tbody tr th {\n",
       "        vertical-align: top;\n",
       "    }\n",
       "\n",
       "    .dataframe thead th {\n",
       "        text-align: right;\n",
       "    }\n",
       "</style>\n",
       "<table border=\"1\" class=\"dataframe\">\n",
       "  <thead>\n",
       "    <tr style=\"text-align: right;\">\n",
       "      <th></th>\n",
       "      <th>pasient_id</th>\n",
       "      <th>sykehusdød</th>\n",
       "      <th>oppholdslengde</th>\n",
       "    </tr>\n",
       "  </thead>\n",
       "  <tbody>\n",
       "    <tr>\n",
       "      <th>count</th>\n",
       "      <td>7734.000000</td>\n",
       "      <td>7734.000000</td>\n",
       "      <td>7734.000000</td>\n",
       "    </tr>\n",
       "    <tr>\n",
       "      <th>mean</th>\n",
       "      <td>4543.038014</td>\n",
       "      <td>0.263253</td>\n",
       "      <td>17.819240</td>\n",
       "    </tr>\n",
       "    <tr>\n",
       "      <th>std</th>\n",
       "      <td>2634.853898</td>\n",
       "      <td>0.440427</td>\n",
       "      <td>21.762188</td>\n",
       "    </tr>\n",
       "    <tr>\n",
       "      <th>min</th>\n",
       "      <td>2.000000</td>\n",
       "      <td>0.000000</td>\n",
       "      <td>3.000000</td>\n",
       "    </tr>\n",
       "    <tr>\n",
       "      <th>25%</th>\n",
       "      <td>2249.250000</td>\n",
       "      <td>0.000000</td>\n",
       "      <td>6.000000</td>\n",
       "    </tr>\n",
       "    <tr>\n",
       "      <th>50%</th>\n",
       "      <td>4541.500000</td>\n",
       "      <td>0.000000</td>\n",
       "      <td>11.000000</td>\n",
       "    </tr>\n",
       "    <tr>\n",
       "      <th>75%</th>\n",
       "      <td>6816.750000</td>\n",
       "      <td>1.000000</td>\n",
       "      <td>20.000000</td>\n",
       "    </tr>\n",
       "    <tr>\n",
       "      <th>max</th>\n",
       "      <td>9105.000000</td>\n",
       "      <td>1.000000</td>\n",
       "      <td>343.000000</td>\n",
       "    </tr>\n",
       "  </tbody>\n",
       "</table>\n",
       "</div>"
      ],
      "text/plain": [
       "        pasient_id   sykehusdød  oppholdslengde\n",
       "count  7734.000000  7734.000000     7734.000000\n",
       "mean   4543.038014     0.263253       17.819240\n",
       "std    2634.853898     0.440427       21.762188\n",
       "min       2.000000     0.000000        3.000000\n",
       "25%    2249.250000     0.000000        6.000000\n",
       "50%    4541.500000     0.000000       11.000000\n",
       "75%    6816.750000     1.000000       20.000000\n",
       "max    9105.000000     1.000000      343.000000"
      ]
     },
     "execution_count": 14,
     "metadata": {},
     "output_type": "execute_result"
    }
   ],
   "source": [
    "hosp_df = hosp_df[hosp_df['oppholdslengde'] >= 0]\n",
    "hosp_df.describe()"
   ]
  },
  {
   "cell_type": "markdown",
   "id": "81f700c2-8c3b-47b2-88f1-6be3073f1574",
   "metadata": {},
   "source": [
    "Checking missing data"
   ]
  },
  {
   "cell_type": "code",
   "execution_count": 15,
   "id": "cdfc4ea5-8f4b-49b9-8c83-6b938150de76",
   "metadata": {},
   "outputs": [
    {
     "data": {
      "text/plain": [
       "pasient_id        0\n",
       "sykehusdød        0\n",
       "oppholdslengde    0\n",
       "dtype: int64"
      ]
     },
     "execution_count": 15,
     "metadata": {},
     "output_type": "execute_result"
    }
   ],
   "source": [
    "hosp_df.isnull().sum()"
   ]
  },
  {
   "cell_type": "markdown",
   "id": "7ee319cc-ee25-4d85-aa2c-f96cb65ac9e0",
   "metadata": {},
   "source": [
    "Checking and removing duplicates"
   ]
  },
  {
   "cell_type": "code",
   "execution_count": 16,
   "id": "63687846-5a02-40a0-9352-278d8c25fd4c",
   "metadata": {},
   "outputs": [
    {
     "name": "stdout",
     "output_type": "stream",
     "text": [
      "Duplicates before : 0\n",
      "Duplicates after : 0\n"
     ]
    }
   ],
   "source": [
    "duplicate_count_before = hosp_df.duplicated().sum()\n",
    "print(f\"Duplicates before : {duplicate_count_before}\")\n",
    "\n",
    "hosp_df = hosp_df.drop_duplicates()\n",
    "\n",
    "duplicate_count_after = hosp_df.duplicated().sum()\n",
    "print(f\"Duplicates after : {duplicate_count_after}\")"
   ]
  },
  {
   "cell_type": "markdown",
   "id": "82d3935f-9f30-4fb9-b346-70222e35d09f",
   "metadata": {},
   "source": [
    "No duplicates"
   ]
  },
  {
   "cell_type": "markdown",
   "id": "316c1eaa-8cf1-4ac1-91e9-7fc6232cfb71",
   "metadata": {},
   "source": [
    "###  Physiological\n",
    "___"
   ]
  },
  {
   "cell_type": "markdown",
   "id": "dc3eea87-b713-4092-9a49-147eac4d981a",
   "metadata": {},
   "source": [
    "#### Checking data\n",
    "___"
   ]
  },
  {
   "cell_type": "code",
   "execution_count": 17,
   "id": "d24e3c8b-f218-4117-8aea-19868773a93a",
   "metadata": {},
   "outputs": [
    {
     "data": {
      "text/html": [
       "<div>\n",
       "<style scoped>\n",
       "    .dataframe tbody tr th:only-of-type {\n",
       "        vertical-align: middle;\n",
       "    }\n",
       "\n",
       "    .dataframe tbody tr th {\n",
       "        vertical-align: top;\n",
       "    }\n",
       "\n",
       "    .dataframe thead th {\n",
       "        text-align: right;\n",
       "    }\n",
       "</style>\n",
       "<table border=\"1\" class=\"dataframe\">\n",
       "  <thead>\n",
       "    <tr style=\"text-align: right;\">\n",
       "      <th></th>\n",
       "      <th>pasient_id</th>\n",
       "      <th>blodtrykk</th>\n",
       "      <th>hvite_blodlegemer</th>\n",
       "      <th>hjertefrekvens</th>\n",
       "      <th>respirasjonsfrekvens</th>\n",
       "      <th>kroppstemperatur</th>\n",
       "      <th>lungefunksjon</th>\n",
       "      <th>serumalbumin</th>\n",
       "      <th>bilirubin</th>\n",
       "      <th>kreatinin</th>\n",
       "      <th>natrium</th>\n",
       "      <th>blod_ph</th>\n",
       "      <th>glukose</th>\n",
       "      <th>blodurea_nitrogen</th>\n",
       "      <th>urinmengde</th>\n",
       "    </tr>\n",
       "  </thead>\n",
       "  <tbody>\n",
       "    <tr>\n",
       "      <th>0</th>\n",
       "      <td>2</td>\n",
       "      <td>43.0</td>\n",
       "      <td>17.097656</td>\n",
       "      <td>112.0</td>\n",
       "      <td>34.0</td>\n",
       "      <td>34.59375</td>\n",
       "      <td>98.00000</td>\n",
       "      <td>NaN</td>\n",
       "      <td>NaN</td>\n",
       "      <td>5.500000</td>\n",
       "      <td>132.0</td>\n",
       "      <td>7.250000</td>\n",
       "      <td>NaN</td>\n",
       "      <td>NaN</td>\n",
       "      <td>NaN</td>\n",
       "    </tr>\n",
       "    <tr>\n",
       "      <th>1</th>\n",
       "      <td>3</td>\n",
       "      <td>70.0</td>\n",
       "      <td>8.500000</td>\n",
       "      <td>88.0</td>\n",
       "      <td>28.0</td>\n",
       "      <td>37.39844</td>\n",
       "      <td>231.65625</td>\n",
       "      <td>NaN</td>\n",
       "      <td>2.199707</td>\n",
       "      <td>2.000000</td>\n",
       "      <td>134.0</td>\n",
       "      <td>7.459961</td>\n",
       "      <td>NaN</td>\n",
       "      <td>NaN</td>\n",
       "      <td>NaN</td>\n",
       "    </tr>\n",
       "    <tr>\n",
       "      <th>2</th>\n",
       "      <td>4</td>\n",
       "      <td>75.0</td>\n",
       "      <td>9.099609</td>\n",
       "      <td>88.0</td>\n",
       "      <td>32.0</td>\n",
       "      <td>35.00000</td>\n",
       "      <td>NaN</td>\n",
       "      <td>NaN</td>\n",
       "      <td>NaN</td>\n",
       "      <td>0.799927</td>\n",
       "      <td>139.0</td>\n",
       "      <td>NaN</td>\n",
       "      <td>NaN</td>\n",
       "      <td>NaN</td>\n",
       "      <td>NaN</td>\n",
       "    </tr>\n",
       "    <tr>\n",
       "      <th>3</th>\n",
       "      <td>5</td>\n",
       "      <td>59.0</td>\n",
       "      <td>13.500000</td>\n",
       "      <td>112.0</td>\n",
       "      <td>20.0</td>\n",
       "      <td>37.89844</td>\n",
       "      <td>173.31250</td>\n",
       "      <td>NaN</td>\n",
       "      <td>NaN</td>\n",
       "      <td>0.799927</td>\n",
       "      <td>143.0</td>\n",
       "      <td>7.509766</td>\n",
       "      <td>NaN</td>\n",
       "      <td>NaN</td>\n",
       "      <td>NaN</td>\n",
       "    </tr>\n",
       "    <tr>\n",
       "      <th>4</th>\n",
       "      <td>6</td>\n",
       "      <td>110.0</td>\n",
       "      <td>10.398438</td>\n",
       "      <td>101.0</td>\n",
       "      <td>44.0</td>\n",
       "      <td>38.39844</td>\n",
       "      <td>266.62500</td>\n",
       "      <td>NaN</td>\n",
       "      <td>NaN</td>\n",
       "      <td>0.699951</td>\n",
       "      <td>140.0</td>\n",
       "      <td>7.659180</td>\n",
       "      <td>NaN</td>\n",
       "      <td>NaN</td>\n",
       "      <td>NaN</td>\n",
       "    </tr>\n",
       "  </tbody>\n",
       "</table>\n",
       "</div>"
      ],
      "text/plain": [
       "   pasient_id  blodtrykk  hvite_blodlegemer  hjertefrekvens  \\\n",
       "0           2       43.0          17.097656           112.0   \n",
       "1           3       70.0           8.500000            88.0   \n",
       "2           4       75.0           9.099609            88.0   \n",
       "3           5       59.0          13.500000           112.0   \n",
       "4           6      110.0          10.398438           101.0   \n",
       "\n",
       "   respirasjonsfrekvens  kroppstemperatur  lungefunksjon  serumalbumin  \\\n",
       "0                  34.0          34.59375       98.00000           NaN   \n",
       "1                  28.0          37.39844      231.65625           NaN   \n",
       "2                  32.0          35.00000            NaN           NaN   \n",
       "3                  20.0          37.89844      173.31250           NaN   \n",
       "4                  44.0          38.39844      266.62500           NaN   \n",
       "\n",
       "   bilirubin  kreatinin  natrium   blod_ph  glukose  blodurea_nitrogen  \\\n",
       "0        NaN   5.500000    132.0  7.250000      NaN                NaN   \n",
       "1   2.199707   2.000000    134.0  7.459961      NaN                NaN   \n",
       "2        NaN   0.799927    139.0       NaN      NaN                NaN   \n",
       "3        NaN   0.799927    143.0  7.509766      NaN                NaN   \n",
       "4        NaN   0.699951    140.0  7.659180      NaN                NaN   \n",
       "\n",
       "   urinmengde  \n",
       "0         NaN  \n",
       "1         NaN  \n",
       "2         NaN  \n",
       "3         NaN  \n",
       "4         NaN  "
      ]
     },
     "execution_count": 17,
     "metadata": {},
     "output_type": "execute_result"
    }
   ],
   "source": [
    "phys_df.head()"
   ]
  },
  {
   "cell_type": "markdown",
   "id": "87afe683-aa3c-4128-b54d-f955e2f56d3a",
   "metadata": {},
   "source": [
    "#### Checking types\n",
    "___"
   ]
  },
  {
   "cell_type": "code",
   "execution_count": 18,
   "id": "655846c5-2f18-4446-b936-cb9ebc6645a5",
   "metadata": {},
   "outputs": [
    {
     "data": {
      "text/plain": [
       "pasient_id                int64\n",
       "blodtrykk               float64\n",
       "hvite_blodlegemer       float64\n",
       "hjertefrekvens          float64\n",
       "respirasjonsfrekvens    float64\n",
       "kroppstemperatur        float64\n",
       "lungefunksjon           float64\n",
       "serumalbumin            float64\n",
       "bilirubin               float64\n",
       "kreatinin               float64\n",
       "natrium                 float64\n",
       "blod_ph                 float64\n",
       "glukose                 float64\n",
       "blodurea_nitrogen       float64\n",
       "urinmengde              float64\n",
       "dtype: object"
      ]
     },
     "execution_count": 18,
     "metadata": {},
     "output_type": "execute_result"
    }
   ],
   "source": [
    "phys_df.dtypes"
   ]
  },
  {
   "cell_type": "markdown",
   "id": "2ff1cd6a-a8c3-455f-942b-8309b06b0761",
   "metadata": {},
   "source": [
    "#### Checking key stats\n",
    "___"
   ]
  },
  {
   "cell_type": "code",
   "execution_count": 19,
   "id": "a3100dd5-88df-455b-8910-01d4c87eea49",
   "metadata": {},
   "outputs": [
    {
     "data": {
      "text/html": [
       "<div>\n",
       "<style scoped>\n",
       "    .dataframe tbody tr th:only-of-type {\n",
       "        vertical-align: middle;\n",
       "    }\n",
       "\n",
       "    .dataframe tbody tr th {\n",
       "        vertical-align: top;\n",
       "    }\n",
       "\n",
       "    .dataframe thead th {\n",
       "        text-align: right;\n",
       "    }\n",
       "</style>\n",
       "<table border=\"1\" class=\"dataframe\">\n",
       "  <thead>\n",
       "    <tr style=\"text-align: right;\">\n",
       "      <th></th>\n",
       "      <th>pasient_id</th>\n",
       "      <th>blodtrykk</th>\n",
       "      <th>hvite_blodlegemer</th>\n",
       "      <th>hjertefrekvens</th>\n",
       "      <th>respirasjonsfrekvens</th>\n",
       "      <th>kroppstemperatur</th>\n",
       "      <th>lungefunksjon</th>\n",
       "      <th>serumalbumin</th>\n",
       "      <th>bilirubin</th>\n",
       "      <th>kreatinin</th>\n",
       "      <th>natrium</th>\n",
       "      <th>blod_ph</th>\n",
       "      <th>glukose</th>\n",
       "      <th>blodurea_nitrogen</th>\n",
       "      <th>urinmengde</th>\n",
       "    </tr>\n",
       "  </thead>\n",
       "  <tbody>\n",
       "    <tr>\n",
       "      <th>count</th>\n",
       "      <td>7740.000000</td>\n",
       "      <td>7740.000000</td>\n",
       "      <td>7565.000000</td>\n",
       "      <td>7740.000000</td>\n",
       "      <td>7740.000000</td>\n",
       "      <td>7740.000000</td>\n",
       "      <td>5796.000000</td>\n",
       "      <td>4891.000000</td>\n",
       "      <td>5544.000000</td>\n",
       "      <td>7683.000000</td>\n",
       "      <td>7740.000000</td>\n",
       "      <td>5828.000000</td>\n",
       "      <td>3917.000000</td>\n",
       "      <td>4048.000000</td>\n",
       "      <td>3627.000000</td>\n",
       "    </tr>\n",
       "    <tr>\n",
       "      <th>mean</th>\n",
       "      <td>4540.665375</td>\n",
       "      <td>84.412468</td>\n",
       "      <td>12.302026</td>\n",
       "      <td>97.283940</td>\n",
       "      <td>23.348450</td>\n",
       "      <td>37.116579</td>\n",
       "      <td>239.608379</td>\n",
       "      <td>2.952622</td>\n",
       "      <td>2.565599</td>\n",
       "      <td>1.790278</td>\n",
       "      <td>137.574160</td>\n",
       "      <td>7.415439</td>\n",
       "      <td>160.031146</td>\n",
       "      <td>32.582040</td>\n",
       "      <td>2185.398372</td>\n",
       "    </tr>\n",
       "    <tr>\n",
       "      <th>std</th>\n",
       "      <td>2636.463416</td>\n",
       "      <td>27.713746</td>\n",
       "      <td>9.108076</td>\n",
       "      <td>31.499505</td>\n",
       "      <td>9.549561</td>\n",
       "      <td>1.257278</td>\n",
       "      <td>109.942808</td>\n",
       "      <td>0.889463</td>\n",
       "      <td>5.318276</td>\n",
       "      <td>1.711926</td>\n",
       "      <td>6.029887</td>\n",
       "      <td>0.080844</td>\n",
       "      <td>87.828819</td>\n",
       "      <td>26.826593</td>\n",
       "      <td>1458.900940</td>\n",
       "    </tr>\n",
       "    <tr>\n",
       "      <th>min</th>\n",
       "      <td>2.000000</td>\n",
       "      <td>0.000000</td>\n",
       "      <td>0.000000</td>\n",
       "      <td>0.000000</td>\n",
       "      <td>0.000000</td>\n",
       "      <td>31.699220</td>\n",
       "      <td>12.000000</td>\n",
       "      <td>0.399963</td>\n",
       "      <td>0.099991</td>\n",
       "      <td>0.099991</td>\n",
       "      <td>110.000000</td>\n",
       "      <td>6.829102</td>\n",
       "      <td>0.000000</td>\n",
       "      <td>1.000000</td>\n",
       "      <td>0.000000</td>\n",
       "    </tr>\n",
       "    <tr>\n",
       "      <th>25%</th>\n",
       "      <td>2244.750000</td>\n",
       "      <td>63.000000</td>\n",
       "      <td>6.899414</td>\n",
       "      <td>72.000000</td>\n",
       "      <td>18.000000</td>\n",
       "      <td>36.195310</td>\n",
       "      <td>155.093750</td>\n",
       "      <td>2.399902</td>\n",
       "      <td>0.500000</td>\n",
       "      <td>0.899902</td>\n",
       "      <td>134.000000</td>\n",
       "      <td>7.379883</td>\n",
       "      <td>103.000000</td>\n",
       "      <td>14.000000</td>\n",
       "      <td>1175.000000</td>\n",
       "    </tr>\n",
       "    <tr>\n",
       "      <th>50%</th>\n",
       "      <td>4539.500000</td>\n",
       "      <td>77.000000</td>\n",
       "      <td>10.599609</td>\n",
       "      <td>100.000000</td>\n",
       "      <td>24.000000</td>\n",
       "      <td>36.695310</td>\n",
       "      <td>223.984375</td>\n",
       "      <td>2.899902</td>\n",
       "      <td>0.899902</td>\n",
       "      <td>1.199951</td>\n",
       "      <td>137.000000</td>\n",
       "      <td>7.419922</td>\n",
       "      <td>135.000000</td>\n",
       "      <td>23.000000</td>\n",
       "      <td>1963.000000</td>\n",
       "    </tr>\n",
       "    <tr>\n",
       "      <th>75%</th>\n",
       "      <td>6816.250000</td>\n",
       "      <td>107.000000</td>\n",
       "      <td>15.298828</td>\n",
       "      <td>120.000000</td>\n",
       "      <td>28.000000</td>\n",
       "      <td>38.195310</td>\n",
       "      <td>304.750000</td>\n",
       "      <td>3.599609</td>\n",
       "      <td>1.899902</td>\n",
       "      <td>1.899902</td>\n",
       "      <td>141.000000</td>\n",
       "      <td>7.469727</td>\n",
       "      <td>190.000000</td>\n",
       "      <td>43.000000</td>\n",
       "      <td>2980.000000</td>\n",
       "    </tr>\n",
       "    <tr>\n",
       "      <th>max</th>\n",
       "      <td>9105.000000</td>\n",
       "      <td>195.000000</td>\n",
       "      <td>128.781250</td>\n",
       "      <td>232.000000</td>\n",
       "      <td>90.000000</td>\n",
       "      <td>41.695310</td>\n",
       "      <td>869.375000</td>\n",
       "      <td>29.000000</td>\n",
       "      <td>63.000000</td>\n",
       "      <td>21.500000</td>\n",
       "      <td>181.000000</td>\n",
       "      <td>7.769531</td>\n",
       "      <td>1092.000000</td>\n",
       "      <td>192.000000</td>\n",
       "      <td>9000.000000</td>\n",
       "    </tr>\n",
       "  </tbody>\n",
       "</table>\n",
       "</div>"
      ],
      "text/plain": [
       "        pasient_id    blodtrykk  hvite_blodlegemer  hjertefrekvens  \\\n",
       "count  7740.000000  7740.000000        7565.000000     7740.000000   \n",
       "mean   4540.665375    84.412468          12.302026       97.283940   \n",
       "std    2636.463416    27.713746           9.108076       31.499505   \n",
       "min       2.000000     0.000000           0.000000        0.000000   \n",
       "25%    2244.750000    63.000000           6.899414       72.000000   \n",
       "50%    4539.500000    77.000000          10.599609      100.000000   \n",
       "75%    6816.250000   107.000000          15.298828      120.000000   \n",
       "max    9105.000000   195.000000         128.781250      232.000000   \n",
       "\n",
       "       respirasjonsfrekvens  kroppstemperatur  lungefunksjon  serumalbumin  \\\n",
       "count           7740.000000       7740.000000    5796.000000   4891.000000   \n",
       "mean              23.348450         37.116579     239.608379      2.952622   \n",
       "std                9.549561          1.257278     109.942808      0.889463   \n",
       "min                0.000000         31.699220      12.000000      0.399963   \n",
       "25%               18.000000         36.195310     155.093750      2.399902   \n",
       "50%               24.000000         36.695310     223.984375      2.899902   \n",
       "75%               28.000000         38.195310     304.750000      3.599609   \n",
       "max               90.000000         41.695310     869.375000     29.000000   \n",
       "\n",
       "         bilirubin    kreatinin      natrium      blod_ph      glukose  \\\n",
       "count  5544.000000  7683.000000  7740.000000  5828.000000  3917.000000   \n",
       "mean      2.565599     1.790278   137.574160     7.415439   160.031146   \n",
       "std       5.318276     1.711926     6.029887     0.080844    87.828819   \n",
       "min       0.099991     0.099991   110.000000     6.829102     0.000000   \n",
       "25%       0.500000     0.899902   134.000000     7.379883   103.000000   \n",
       "50%       0.899902     1.199951   137.000000     7.419922   135.000000   \n",
       "75%       1.899902     1.899902   141.000000     7.469727   190.000000   \n",
       "max      63.000000    21.500000   181.000000     7.769531  1092.000000   \n",
       "\n",
       "       blodurea_nitrogen   urinmengde  \n",
       "count        4048.000000  3627.000000  \n",
       "mean           32.582040  2185.398372  \n",
       "std            26.826593  1458.900940  \n",
       "min             1.000000     0.000000  \n",
       "25%            14.000000  1175.000000  \n",
       "50%            23.000000  1963.000000  \n",
       "75%            43.000000  2980.000000  \n",
       "max           192.000000  9000.000000  "
      ]
     },
     "execution_count": 19,
     "metadata": {},
     "output_type": "execute_result"
    }
   ],
   "source": [
    "phys_df.describe()"
   ]
  },
  {
   "cell_type": "markdown",
   "id": "345a016b-12f7-43b4-aaa8-becb4c827eb9",
   "metadata": {},
   "source": [
    "#### Checking missing data\n",
    "___"
   ]
  },
  {
   "cell_type": "code",
   "execution_count": 20,
   "id": "94397e1e-d7ff-4f5e-af33-e07f614e2311",
   "metadata": {},
   "outputs": [
    {
     "data": {
      "text/plain": [
       "pasient_id                 0\n",
       "blodtrykk                  0\n",
       "hvite_blodlegemer        175\n",
       "hjertefrekvens             0\n",
       "respirasjonsfrekvens       0\n",
       "kroppstemperatur           0\n",
       "lungefunksjon           1944\n",
       "serumalbumin            2849\n",
       "bilirubin               2196\n",
       "kreatinin                 57\n",
       "natrium                    0\n",
       "blod_ph                 1912\n",
       "glukose                 3823\n",
       "blodurea_nitrogen       3692\n",
       "urinmengde              4113\n",
       "dtype: int64"
      ]
     },
     "execution_count": 20,
     "metadata": {},
     "output_type": "execute_result"
    }
   ],
   "source": [
    "phys_df.isnull().sum()"
   ]
  },
  {
   "cell_type": "markdown",
   "id": "90aae14b-11ec-4a9e-bdf6-eacc3c480478",
   "metadata": {},
   "source": [
    "#### Checking and removing duplicates\n",
    "___"
   ]
  },
  {
   "cell_type": "code",
   "execution_count": 21,
   "id": "acc02a77-ee69-4058-ac11-56ab050cf95d",
   "metadata": {},
   "outputs": [
    {
     "name": "stdout",
     "output_type": "stream",
     "text": [
      "Duplicates before : 0\n",
      "Duplicates after : 0\n"
     ]
    }
   ],
   "source": [
    "duplicate_count_before = phys_df.duplicated().sum()\n",
    "print(f\"Duplicates before : {duplicate_count_before}\")\n",
    "\n",
    "phys_df = phys_df.drop_duplicates()\n",
    "\n",
    "duplicate_count_after = phys_df.duplicated().sum()\n",
    "print(f\"Duplicates after : {duplicate_count_after}\")"
   ]
  },
  {
   "cell_type": "markdown",
   "id": "0605e00c-f813-4bd4-897f-1bf4048c2980",
   "metadata": {},
   "source": [
    "No duplicates"
   ]
  },
  {
   "cell_type": "markdown",
   "id": "adb6a680-28b0-4e02-8fe7-8c7fa4d67ebf",
   "metadata": {},
   "source": [
    "###  Severity\n",
    "___"
   ]
  },
  {
   "cell_type": "markdown",
   "id": "c3244a9a-11d5-4cf8-b309-185324e4123c",
   "metadata": {},
   "source": [
    "#### Checking data\n",
    "___"
   ]
  },
  {
   "cell_type": "code",
   "execution_count": 22,
   "id": "3c9d873d-a0e4-424a-9201-d92012154c8b",
   "metadata": {},
   "outputs": [
    {
     "data": {
      "text/html": [
       "<div>\n",
       "<style scoped>\n",
       "    .dataframe tbody tr th:only-of-type {\n",
       "        vertical-align: middle;\n",
       "    }\n",
       "\n",
       "    .dataframe tbody tr th {\n",
       "        vertical-align: top;\n",
       "    }\n",
       "\n",
       "    .dataframe thead th {\n",
       "        text-align: right;\n",
       "    }\n",
       "</style>\n",
       "<table border=\"1\" class=\"dataframe\">\n",
       "  <thead>\n",
       "    <tr style=\"text-align: right;\">\n",
       "      <th></th>\n",
       "      <th>sykdomskategori_id</th>\n",
       "      <th>sykdomskategori</th>\n",
       "      <th>pasient_id</th>\n",
       "      <th>dødsfall</th>\n",
       "      <th>sykdom_underkategori</th>\n",
       "      <th>antall_komorbiditeter</th>\n",
       "      <th>koma_score</th>\n",
       "      <th>adl_pasient</th>\n",
       "      <th>adl_stedfortreder</th>\n",
       "      <th>fysiologisk_score</th>\n",
       "      <th>apache_fysiologisk_score</th>\n",
       "      <th>overlevelsesestimat_2mnd</th>\n",
       "      <th>overlevelsesestimat_6mnd</th>\n",
       "      <th>diabetes</th>\n",
       "      <th>demens</th>\n",
       "      <th>kreft</th>\n",
       "      <th>lege_overlevelsesestimat_2mnd</th>\n",
       "      <th>lege_overlevelsesestimat_6mnd</th>\n",
       "      <th>dnr_status</th>\n",
       "      <th>dnr_dag</th>\n",
       "    </tr>\n",
       "  </thead>\n",
       "  <tbody>\n",
       "    <tr>\n",
       "      <th>0</th>\n",
       "      <td>A1s</td>\n",
       "      <td>ARF/MOSF</td>\n",
       "      <td>[5, 15, 18, 23, 28, 34, 39, 43, 46, 47, 48, 58...</td>\n",
       "      <td>[0, 0, 1, 0, 1, 1, 0, 1, 1, 1, 1, 0, 1, 0, 1, ...</td>\n",
       "      <td>[ARF/MOSF w/Sepsis, ARF/MOSF w/Sepsis, ARF/MOS...</td>\n",
       "      <td>[1, 1, 0, 1, 1, 1, 0, 1, 0, 0, 2, 0, 3, 1, 3, ...</td>\n",
       "      <td>[26.0, 26.0, 26.0, 0.0, 26.0, 37.0, 0.0, 0.0, ...</td>\n",
       "      <td>[None, None, None, None, None, None, None, Non...</td>\n",
       "      <td>[2.0, None, 0.0, 5.0, 2.0, None, 0.0, None, No...</td>\n",
       "      <td>[23.5, 30.5, 40.296875, 31.6992188, 46.796875,...</td>\n",
       "      <td>[30.0, 39.0, 58.0, 42.0, 85.0, 49.0, 5.0, 76.0...</td>\n",
       "      <td>[0.6348876950000001, 0.590942383, 0.2129821780...</td>\n",
       "      <td>[0.5329589840000001, 0.481994629, 0.1169891360...</td>\n",
       "      <td>[0, 0, 0, 0, 0, 0, 0, 0, 0, 0, 0, 1, 1, 0, 0, ...</td>\n",
       "      <td>[0, 0, 0, 0, 0, 0, 0, 0, 0, 0, 0, 0, 0, 0, 0, ...</td>\n",
       "      <td>[no, no, no, no, yes, no, no, no, no, no, yes,...</td>\n",
       "      <td>[0.899999619, 0.899999619, 0.09999996400000001...</td>\n",
       "      <td>[0.9, 0.9, 0.001, 0.5, 0.000125, 0.60000000000...</td>\n",
       "      <td>[None, None, None, None, None, None, None, Non...</td>\n",
       "      <td>[None, None, None, None, None, None, None, Non...</td>\n",
       "    </tr>\n",
       "    <tr>\n",
       "      <th>1</th>\n",
       "      <td>BrY</td>\n",
       "      <td>COPD/CHF/Cirrhosis</td>\n",
       "      <td>[2, 3, 7, 8, 11, 13, 14, 19, 20, 30, 31, 32, 3...</td>\n",
       "      <td>[1, 1, 1, 1, 1, 1, 1, 1, 1, 0, 0, 0, 1, 1, 1, ...</td>\n",
       "      <td>[Cirrhosis, Cirrhosis, CHF, CHF, CHF, Cirrhosi...</td>\n",
       "      <td>[2, 2, 1, 3, 1, 1, 0, 2, 1, 2, 2, 2, 2, 1, 1, ...</td>\n",
       "      <td>[44.0, 0.0, 0.0, 26.0, 0.0, 0.0, 0.0, 0.0, 0.0...</td>\n",
       "      <td>[None, 1.0, 0.0, None, 2.0, 0.0, 0.0, 7.0, 3.0...</td>\n",
       "      <td>[1.0, 0.0, 1.0, 0.0, 1.0, 0.0, 0.0, 7.0, None,...</td>\n",
       "      <td>[52.6953125, 20.5, 17.296875, 21.5976562, 14.5...</td>\n",
       "      <td>[74.0, 45.0, 46.0, 53.0, 14.0, 30.0, 34.0, 42....</td>\n",
       "      <td>[0.000999928, 0.790893555, 0.892944336, 0.6708...</td>\n",
       "      <td>[0.0, 0.6649169920000001, 0.820922852, 0.49896...</td>\n",
       "      <td>[0, 0, 0, 1, 0, 0, 0, 0, 0, 0, 0, 0, 0, 0, 0, ...</td>\n",
       "      <td>[0, 0, 0, 0, 0, 0, 0, 0, 0, 0, 0, 0, 0, 0, 0, ...</td>\n",
       "      <td>[no, no, no, no, no, no, no, no, no, no, no, n...</td>\n",
       "      <td>[0.0, 0.75, None, 0.799999714, 0.699999809, No...</td>\n",
       "      <td>[0.0, 0.5, 0.7000000000000001, 0.4, 0.5, None,...</td>\n",
       "      <td>[None, None, None, None, None, None, None, Non...</td>\n",
       "      <td>[None, None, None, None, None, None, None, Non...</td>\n",
       "    </tr>\n",
       "    <tr>\n",
       "      <th>2</th>\n",
       "      <td>ChE</td>\n",
       "      <td>Cancer</td>\n",
       "      <td>[4, 9, 10, 12, 16, 17, 21, 24, 27, 41, 42, 54,...</td>\n",
       "      <td>[1, 1, 1, 1, 1, 1, 1, 1, 1, 0, 1, 1, 1, 1, 1, ...</td>\n",
       "      <td>[Lung Cancer, Lung Cancer, Colon Cancer, Lung ...</td>\n",
       "      <td>[2, 2, 0, 0, 1, 2, 0, 0, 0, 1, 1, 1, 2, 0, 1, ...</td>\n",
       "      <td>[0.0, 26.0, 0.0, 0.0, 0.0, 0.0, 0.0, 0.0, 44.0...</td>\n",
       "      <td>[0.0, None, 0.0, 1.0, 2.0, None, 0.0, None, No...</td>\n",
       "      <td>[0.0, 7.0, None, 1.0, 0.0, None, 0.0, None, No...</td>\n",
       "      <td>[20.0976562, 15.8984375, 2.2998047, 16.3984375...</td>\n",
       "      <td>[19.0, 17.0, 9.0, 17.0, 11.0, 4.0, 16.0, 11.0,...</td>\n",
       "      <td>[0.6989746090000001, 0.570922852, 0.9528808590...</td>\n",
       "      <td>[0.411987305, 0.24899292, 0.8879394530000001, ...</td>\n",
       "      <td>[0, 0, 0, 0, 0, 0, 0, 0, 0, 0, 0, 0, 0, 0, 0, ...</td>\n",
       "      <td>[0, 1, 0, 0, 0, 0, 0, 0, 0, 0, 0, 0, 1, 0, 0, ...</td>\n",
       "      <td>[metastatic, metastatic, metastatic, metastati...</td>\n",
       "      <td>[0.899999619, 0.049999982000000005, None, None...</td>\n",
       "      <td>[0.5, 0.000125, None, None, 0.7000000000000001...</td>\n",
       "      <td>[None, dnr ved innleggelse, None, None, None, ...</td>\n",
       "      <td>[None, 0.0, None, None, None, None, None, None...</td>\n",
       "    </tr>\n",
       "    <tr>\n",
       "      <th>3</th>\n",
       "      <td>DWw</td>\n",
       "      <td>Coma</td>\n",
       "      <td>[6, 162, 188, 250, 252, 262, 275, 309, 323, 35...</td>\n",
       "      <td>[1, 0, 1, 1, 1, 1, 1, 1, 1, 1, 1, 0, 1, 1, 1, ...</td>\n",
       "      <td>[Coma, Coma, Coma, Coma, Coma, Coma, Coma, Com...</td>\n",
       "      <td>[1, 0, 0, 2, 1, 2, 1, 0, 0, 1, 1, 0, 2, 2, 0, ...</td>\n",
       "      <td>[55.0, 61.0, 94.0, 55.0, 94.0, 100.0, 100.0, 5...</td>\n",
       "      <td>[None, None, None, None, None, None, None, Non...</td>\n",
       "      <td>[1.0, None, None, 1.0, None, None, None, None,...</td>\n",
       "      <td>[19.3984375, 30.3984375, 20.296875, 30.8984375...</td>\n",
       "      <td>[27.0, 36.0, 22.0, 53.0, 40.0, 25.0, 58.0, 16....</td>\n",
       "      <td>[0.28497314500000004, 0.438964844, 0.280944824...</td>\n",
       "      <td>[0.214996338, 0.365966797, 0.211975098, 0.2729...</td>\n",
       "      <td>[0, 0, 0, 0, 0, 1, 0, 0, 0, 0, 0, 0, 0, 0, 0, ...</td>\n",
       "      <td>[0, 0, 0, 0, 0, 0, 1, 0, 0, 0, 0, 0, 0, 0, 0, ...</td>\n",
       "      <td>[no, no, no, no, yes, no, no, no, no, no, no, ...</td>\n",
       "      <td>[0.0, None, None, None, None, 0.09999996400000...</td>\n",
       "      <td>[0.0, None, None, None, None, 0.001, 0.000125,...</td>\n",
       "      <td>[None, None, None, None, dnr ved innleggelse, ...</td>\n",
       "      <td>[None, None, None, None, 0.0, None, 0.0, None,...</td>\n",
       "    </tr>\n",
       "  </tbody>\n",
       "</table>\n",
       "</div>"
      ],
      "text/plain": [
       "  sykdomskategori_id     sykdomskategori  \\\n",
       "0                A1s            ARF/MOSF   \n",
       "1                BrY  COPD/CHF/Cirrhosis   \n",
       "2                ChE              Cancer   \n",
       "3                DWw                Coma   \n",
       "\n",
       "                                          pasient_id  \\\n",
       "0  [5, 15, 18, 23, 28, 34, 39, 43, 46, 47, 48, 58...   \n",
       "1  [2, 3, 7, 8, 11, 13, 14, 19, 20, 30, 31, 32, 3...   \n",
       "2  [4, 9, 10, 12, 16, 17, 21, 24, 27, 41, 42, 54,...   \n",
       "3  [6, 162, 188, 250, 252, 262, 275, 309, 323, 35...   \n",
       "\n",
       "                                            dødsfall  \\\n",
       "0  [0, 0, 1, 0, 1, 1, 0, 1, 1, 1, 1, 0, 1, 0, 1, ...   \n",
       "1  [1, 1, 1, 1, 1, 1, 1, 1, 1, 0, 0, 0, 1, 1, 1, ...   \n",
       "2  [1, 1, 1, 1, 1, 1, 1, 1, 1, 0, 1, 1, 1, 1, 1, ...   \n",
       "3  [1, 0, 1, 1, 1, 1, 1, 1, 1, 1, 1, 0, 1, 1, 1, ...   \n",
       "\n",
       "                                sykdom_underkategori  \\\n",
       "0  [ARF/MOSF w/Sepsis, ARF/MOSF w/Sepsis, ARF/MOS...   \n",
       "1  [Cirrhosis, Cirrhosis, CHF, CHF, CHF, Cirrhosi...   \n",
       "2  [Lung Cancer, Lung Cancer, Colon Cancer, Lung ...   \n",
       "3  [Coma, Coma, Coma, Coma, Coma, Coma, Coma, Com...   \n",
       "\n",
       "                               antall_komorbiditeter  \\\n",
       "0  [1, 1, 0, 1, 1, 1, 0, 1, 0, 0, 2, 0, 3, 1, 3, ...   \n",
       "1  [2, 2, 1, 3, 1, 1, 0, 2, 1, 2, 2, 2, 2, 1, 1, ...   \n",
       "2  [2, 2, 0, 0, 1, 2, 0, 0, 0, 1, 1, 1, 2, 0, 1, ...   \n",
       "3  [1, 0, 0, 2, 1, 2, 1, 0, 0, 1, 1, 0, 2, 2, 0, ...   \n",
       "\n",
       "                                          koma_score  \\\n",
       "0  [26.0, 26.0, 26.0, 0.0, 26.0, 37.0, 0.0, 0.0, ...   \n",
       "1  [44.0, 0.0, 0.0, 26.0, 0.0, 0.0, 0.0, 0.0, 0.0...   \n",
       "2  [0.0, 26.0, 0.0, 0.0, 0.0, 0.0, 0.0, 0.0, 44.0...   \n",
       "3  [55.0, 61.0, 94.0, 55.0, 94.0, 100.0, 100.0, 5...   \n",
       "\n",
       "                                         adl_pasient  \\\n",
       "0  [None, None, None, None, None, None, None, Non...   \n",
       "1  [None, 1.0, 0.0, None, 2.0, 0.0, 0.0, 7.0, 3.0...   \n",
       "2  [0.0, None, 0.0, 1.0, 2.0, None, 0.0, None, No...   \n",
       "3  [None, None, None, None, None, None, None, Non...   \n",
       "\n",
       "                                   adl_stedfortreder  \\\n",
       "0  [2.0, None, 0.0, 5.0, 2.0, None, 0.0, None, No...   \n",
       "1  [1.0, 0.0, 1.0, 0.0, 1.0, 0.0, 0.0, 7.0, None,...   \n",
       "2  [0.0, 7.0, None, 1.0, 0.0, None, 0.0, None, No...   \n",
       "3  [1.0, None, None, 1.0, None, None, None, None,...   \n",
       "\n",
       "                                   fysiologisk_score  \\\n",
       "0  [23.5, 30.5, 40.296875, 31.6992188, 46.796875,...   \n",
       "1  [52.6953125, 20.5, 17.296875, 21.5976562, 14.5...   \n",
       "2  [20.0976562, 15.8984375, 2.2998047, 16.3984375...   \n",
       "3  [19.3984375, 30.3984375, 20.296875, 30.8984375...   \n",
       "\n",
       "                            apache_fysiologisk_score  \\\n",
       "0  [30.0, 39.0, 58.0, 42.0, 85.0, 49.0, 5.0, 76.0...   \n",
       "1  [74.0, 45.0, 46.0, 53.0, 14.0, 30.0, 34.0, 42....   \n",
       "2  [19.0, 17.0, 9.0, 17.0, 11.0, 4.0, 16.0, 11.0,...   \n",
       "3  [27.0, 36.0, 22.0, 53.0, 40.0, 25.0, 58.0, 16....   \n",
       "\n",
       "                            overlevelsesestimat_2mnd  \\\n",
       "0  [0.6348876950000001, 0.590942383, 0.2129821780...   \n",
       "1  [0.000999928, 0.790893555, 0.892944336, 0.6708...   \n",
       "2  [0.6989746090000001, 0.570922852, 0.9528808590...   \n",
       "3  [0.28497314500000004, 0.438964844, 0.280944824...   \n",
       "\n",
       "                            overlevelsesestimat_6mnd  \\\n",
       "0  [0.5329589840000001, 0.481994629, 0.1169891360...   \n",
       "1  [0.0, 0.6649169920000001, 0.820922852, 0.49896...   \n",
       "2  [0.411987305, 0.24899292, 0.8879394530000001, ...   \n",
       "3  [0.214996338, 0.365966797, 0.211975098, 0.2729...   \n",
       "\n",
       "                                            diabetes  \\\n",
       "0  [0, 0, 0, 0, 0, 0, 0, 0, 0, 0, 0, 1, 1, 0, 0, ...   \n",
       "1  [0, 0, 0, 1, 0, 0, 0, 0, 0, 0, 0, 0, 0, 0, 0, ...   \n",
       "2  [0, 0, 0, 0, 0, 0, 0, 0, 0, 0, 0, 0, 0, 0, 0, ...   \n",
       "3  [0, 0, 0, 0, 0, 1, 0, 0, 0, 0, 0, 0, 0, 0, 0, ...   \n",
       "\n",
       "                                              demens  \\\n",
       "0  [0, 0, 0, 0, 0, 0, 0, 0, 0, 0, 0, 0, 0, 0, 0, ...   \n",
       "1  [0, 0, 0, 0, 0, 0, 0, 0, 0, 0, 0, 0, 0, 0, 0, ...   \n",
       "2  [0, 1, 0, 0, 0, 0, 0, 0, 0, 0, 0, 0, 1, 0, 0, ...   \n",
       "3  [0, 0, 0, 0, 0, 0, 1, 0, 0, 0, 0, 0, 0, 0, 0, ...   \n",
       "\n",
       "                                               kreft  \\\n",
       "0  [no, no, no, no, yes, no, no, no, no, no, yes,...   \n",
       "1  [no, no, no, no, no, no, no, no, no, no, no, n...   \n",
       "2  [metastatic, metastatic, metastatic, metastati...   \n",
       "3  [no, no, no, no, yes, no, no, no, no, no, no, ...   \n",
       "\n",
       "                       lege_overlevelsesestimat_2mnd  \\\n",
       "0  [0.899999619, 0.899999619, 0.09999996400000001...   \n",
       "1  [0.0, 0.75, None, 0.799999714, 0.699999809, No...   \n",
       "2  [0.899999619, 0.049999982000000005, None, None...   \n",
       "3  [0.0, None, None, None, None, 0.09999996400000...   \n",
       "\n",
       "                       lege_overlevelsesestimat_6mnd  \\\n",
       "0  [0.9, 0.9, 0.001, 0.5, 0.000125, 0.60000000000...   \n",
       "1  [0.0, 0.5, 0.7000000000000001, 0.4, 0.5, None,...   \n",
       "2  [0.5, 0.000125, None, None, 0.7000000000000001...   \n",
       "3  [0.0, None, None, None, None, 0.001, 0.000125,...   \n",
       "\n",
       "                                          dnr_status  \\\n",
       "0  [None, None, None, None, None, None, None, Non...   \n",
       "1  [None, None, None, None, None, None, None, Non...   \n",
       "2  [None, dnr ved innleggelse, None, None, None, ...   \n",
       "3  [None, None, None, None, dnr ved innleggelse, ...   \n",
       "\n",
       "                                             dnr_dag  \n",
       "0  [None, None, None, None, None, None, None, Non...  \n",
       "1  [None, None, None, None, None, None, None, Non...  \n",
       "2  [None, 0.0, None, None, None, None, None, None...  \n",
       "3  [None, None, None, None, 0.0, None, 0.0, None,...  "
      ]
     },
     "execution_count": 22,
     "metadata": {},
     "output_type": "execute_result"
    }
   ],
   "source": [
    "severity_df.head()"
   ]
  },
  {
   "cell_type": "markdown",
   "id": "f84f4d3a-0e97-45c1-9a12-50e1795c85d0",
   "metadata": {},
   "source": [
    "#### Checking types and modifying\n",
    "___"
   ]
  },
  {
   "cell_type": "code",
   "execution_count": 23,
   "id": "03eab2e0-1137-42ab-9c3c-3534e0d734c4",
   "metadata": {},
   "outputs": [
    {
     "data": {
      "text/plain": [
       "sykdomskategori_id               object\n",
       "sykdomskategori                  object\n",
       "pasient_id                       object\n",
       "dødsfall                         object\n",
       "sykdom_underkategori             object\n",
       "antall_komorbiditeter            object\n",
       "koma_score                       object\n",
       "adl_pasient                      object\n",
       "adl_stedfortreder                object\n",
       "fysiologisk_score                object\n",
       "apache_fysiologisk_score         object\n",
       "overlevelsesestimat_2mnd         object\n",
       "overlevelsesestimat_6mnd         object\n",
       "diabetes                         object\n",
       "demens                           object\n",
       "kreft                            object\n",
       "lege_overlevelsesestimat_2mnd    object\n",
       "lege_overlevelsesestimat_6mnd    object\n",
       "dnr_status                       object\n",
       "dnr_dag                          object\n",
       "dtype: object"
      ]
     },
     "execution_count": 23,
     "metadata": {},
     "output_type": "execute_result"
    }
   ],
   "source": [
    "severity_df.dtypes"
   ]
  },
  {
   "cell_type": "markdown",
   "id": "a3abb5de-1ddb-4ba3-9818-37da0b356a4e",
   "metadata": {},
   "source": [
    "We need to modify the objects in severity that contains lists to not contain lists, we can use .explode. When we used heads we could see that each column expect the first 2 needs to be used explode on. "
   ]
  },
  {
   "cell_type": "code",
   "execution_count": 24,
   "id": "bec73107-d980-4db2-b558-45c360525dd2",
   "metadata": {},
   "outputs": [
    {
     "data": {
      "text/html": [
       "<div>\n",
       "<style scoped>\n",
       "    .dataframe tbody tr th:only-of-type {\n",
       "        vertical-align: middle;\n",
       "    }\n",
       "\n",
       "    .dataframe tbody tr th {\n",
       "        vertical-align: top;\n",
       "    }\n",
       "\n",
       "    .dataframe thead th {\n",
       "        text-align: right;\n",
       "    }\n",
       "</style>\n",
       "<table border=\"1\" class=\"dataframe\">\n",
       "  <thead>\n",
       "    <tr style=\"text-align: right;\">\n",
       "      <th></th>\n",
       "      <th>sykdomskategori_id</th>\n",
       "      <th>sykdomskategori</th>\n",
       "      <th>pasient_id</th>\n",
       "      <th>dødsfall</th>\n",
       "      <th>sykdom_underkategori</th>\n",
       "      <th>antall_komorbiditeter</th>\n",
       "      <th>koma_score</th>\n",
       "      <th>adl_pasient</th>\n",
       "      <th>adl_stedfortreder</th>\n",
       "      <th>fysiologisk_score</th>\n",
       "      <th>apache_fysiologisk_score</th>\n",
       "      <th>overlevelsesestimat_2mnd</th>\n",
       "      <th>overlevelsesestimat_6mnd</th>\n",
       "      <th>diabetes</th>\n",
       "      <th>demens</th>\n",
       "      <th>kreft</th>\n",
       "      <th>lege_overlevelsesestimat_2mnd</th>\n",
       "      <th>lege_overlevelsesestimat_6mnd</th>\n",
       "      <th>dnr_status</th>\n",
       "      <th>dnr_dag</th>\n",
       "    </tr>\n",
       "  </thead>\n",
       "  <tbody>\n",
       "    <tr>\n",
       "      <th>0</th>\n",
       "      <td>A1s</td>\n",
       "      <td>ARF/MOSF</td>\n",
       "      <td>5</td>\n",
       "      <td>0</td>\n",
       "      <td>ARF/MOSF w/Sepsis</td>\n",
       "      <td>1</td>\n",
       "      <td>26.0</td>\n",
       "      <td>None</td>\n",
       "      <td>2.0</td>\n",
       "      <td>23.5</td>\n",
       "      <td>30.0</td>\n",
       "      <td>0.634888</td>\n",
       "      <td>0.532959</td>\n",
       "      <td>0</td>\n",
       "      <td>0</td>\n",
       "      <td>no</td>\n",
       "      <td>0.9</td>\n",
       "      <td>0.9</td>\n",
       "      <td>None</td>\n",
       "      <td>None</td>\n",
       "    </tr>\n",
       "    <tr>\n",
       "      <th>0</th>\n",
       "      <td>A1s</td>\n",
       "      <td>ARF/MOSF</td>\n",
       "      <td>15</td>\n",
       "      <td>0</td>\n",
       "      <td>ARF/MOSF w/Sepsis</td>\n",
       "      <td>1</td>\n",
       "      <td>26.0</td>\n",
       "      <td>None</td>\n",
       "      <td>None</td>\n",
       "      <td>30.5</td>\n",
       "      <td>39.0</td>\n",
       "      <td>0.590942</td>\n",
       "      <td>0.481995</td>\n",
       "      <td>0</td>\n",
       "      <td>0</td>\n",
       "      <td>no</td>\n",
       "      <td>0.9</td>\n",
       "      <td>0.9</td>\n",
       "      <td>None</td>\n",
       "      <td>None</td>\n",
       "    </tr>\n",
       "    <tr>\n",
       "      <th>0</th>\n",
       "      <td>A1s</td>\n",
       "      <td>ARF/MOSF</td>\n",
       "      <td>18</td>\n",
       "      <td>1</td>\n",
       "      <td>ARF/MOSF w/Sepsis</td>\n",
       "      <td>0</td>\n",
       "      <td>26.0</td>\n",
       "      <td>None</td>\n",
       "      <td>0.0</td>\n",
       "      <td>40.296875</td>\n",
       "      <td>58.0</td>\n",
       "      <td>0.212982</td>\n",
       "      <td>0.116989</td>\n",
       "      <td>0</td>\n",
       "      <td>0</td>\n",
       "      <td>no</td>\n",
       "      <td>0.1</td>\n",
       "      <td>0.001</td>\n",
       "      <td>None</td>\n",
       "      <td>None</td>\n",
       "    </tr>\n",
       "    <tr>\n",
       "      <th>0</th>\n",
       "      <td>A1s</td>\n",
       "      <td>ARF/MOSF</td>\n",
       "      <td>23</td>\n",
       "      <td>0</td>\n",
       "      <td>ARF/MOSF w/Sepsis</td>\n",
       "      <td>1</td>\n",
       "      <td>0.0</td>\n",
       "      <td>None</td>\n",
       "      <td>5.0</td>\n",
       "      <td>31.699219</td>\n",
       "      <td>42.0</td>\n",
       "      <td>0.650879</td>\n",
       "      <td>0.55188</td>\n",
       "      <td>0</td>\n",
       "      <td>0</td>\n",
       "      <td>no</td>\n",
       "      <td>0.6</td>\n",
       "      <td>0.5</td>\n",
       "      <td>None</td>\n",
       "      <td>None</td>\n",
       "    </tr>\n",
       "    <tr>\n",
       "      <th>0</th>\n",
       "      <td>A1s</td>\n",
       "      <td>ARF/MOSF</td>\n",
       "      <td>28</td>\n",
       "      <td>1</td>\n",
       "      <td>MOSF w/Malig</td>\n",
       "      <td>1</td>\n",
       "      <td>26.0</td>\n",
       "      <td>None</td>\n",
       "      <td>2.0</td>\n",
       "      <td>46.796875</td>\n",
       "      <td>85.0</td>\n",
       "      <td>0.021</td>\n",
       "      <td>0.004999</td>\n",
       "      <td>0</td>\n",
       "      <td>0</td>\n",
       "      <td>yes</td>\n",
       "      <td>0.05</td>\n",
       "      <td>0.000125</td>\n",
       "      <td>None</td>\n",
       "      <td>None</td>\n",
       "    </tr>\n",
       "  </tbody>\n",
       "</table>\n",
       "</div>"
      ],
      "text/plain": [
       "  sykdomskategori_id sykdomskategori pasient_id dødsfall sykdom_underkategori  \\\n",
       "0                A1s        ARF/MOSF          5        0    ARF/MOSF w/Sepsis   \n",
       "0                A1s        ARF/MOSF         15        0    ARF/MOSF w/Sepsis   \n",
       "0                A1s        ARF/MOSF         18        1    ARF/MOSF w/Sepsis   \n",
       "0                A1s        ARF/MOSF         23        0    ARF/MOSF w/Sepsis   \n",
       "0                A1s        ARF/MOSF         28        1         MOSF w/Malig   \n",
       "\n",
       "  antall_komorbiditeter koma_score adl_pasient adl_stedfortreder  \\\n",
       "0                     1       26.0        None               2.0   \n",
       "0                     1       26.0        None              None   \n",
       "0                     0       26.0        None               0.0   \n",
       "0                     1        0.0        None               5.0   \n",
       "0                     1       26.0        None               2.0   \n",
       "\n",
       "  fysiologisk_score apache_fysiologisk_score overlevelsesestimat_2mnd  \\\n",
       "0              23.5                     30.0                 0.634888   \n",
       "0              30.5                     39.0                 0.590942   \n",
       "0         40.296875                     58.0                 0.212982   \n",
       "0         31.699219                     42.0                 0.650879   \n",
       "0         46.796875                     85.0                    0.021   \n",
       "\n",
       "  overlevelsesestimat_6mnd diabetes demens kreft  \\\n",
       "0                 0.532959        0      0    no   \n",
       "0                 0.481995        0      0    no   \n",
       "0                 0.116989        0      0    no   \n",
       "0                  0.55188        0      0    no   \n",
       "0                 0.004999        0      0   yes   \n",
       "\n",
       "  lege_overlevelsesestimat_2mnd lege_overlevelsesestimat_6mnd dnr_status  \\\n",
       "0                           0.9                           0.9       None   \n",
       "0                           0.9                           0.9       None   \n",
       "0                           0.1                         0.001       None   \n",
       "0                           0.6                           0.5       None   \n",
       "0                          0.05                      0.000125       None   \n",
       "\n",
       "  dnr_dag  \n",
       "0    None  \n",
       "0    None  \n",
       "0    None  \n",
       "0    None  \n",
       "0    None  "
      ]
     },
     "execution_count": 24,
     "metadata": {},
     "output_type": "execute_result"
    }
   ],
   "source": [
    "columns_need_explode = severity_df.columns[2:].tolist()\n",
    "severity_df = severity_df.explode(columns_need_explode)\n",
    "severity_df.head()"
   ]
  },
  {
   "cell_type": "markdown",
   "id": "ae65d1c4-5475-42ee-b762-d4bde7544535",
   "metadata": {},
   "source": [
    "All columns has type object, this needs to be modified before we can use them in the machine learning model. \n",
    "Following the list, describing type of variables, pasient_id, dødsfall, antall_komorbiditeter, diabets and demens should be int."
   ]
  },
  {
   "cell_type": "code",
   "execution_count": 25,
   "id": "5d1b8765-e0d5-4ab1-bd70-df58fb0c125d",
   "metadata": {},
   "outputs": [],
   "source": [
    "severity_df['pasient_id'] = pd.to_numeric(severity_df['pasient_id'], errors='coerce').astype('Int64')\n",
    "severity_df['dødsfall'] = pd.to_numeric(severity_df['dødsfall'], errors='coerce').astype('Int64')\n",
    "severity_df['antall_komorbiditeter'] = pd.to_numeric(severity_df['antall_komorbiditeter'], errors='coerce').astype('Int64')\n",
    "severity_df['diabetes'] = pd.to_numeric(severity_df['diabetes'], errors='coerce').astype('Int64')\n",
    "severity_df['demens'] = pd.to_numeric(severity_df['demens'], errors='coerce').astype('Int64')"
   ]
  },
  {
   "cell_type": "markdown",
   "id": "a2015abb-d2fa-4279-97e6-7875f53deb77",
   "metadata": {},
   "source": [
    "Categorical variables like sykdomskategori, sykdom_underkategori, kreft, and dnr_status will be given dummy variables."
   ]
  },
  {
   "cell_type": "code",
   "execution_count": 26,
   "id": "3a9e70c4-3431-4919-b134-8650a041458a",
   "metadata": {},
   "outputs": [
    {
     "data": {
      "text/html": [
       "<div>\n",
       "<style scoped>\n",
       "    .dataframe tbody tr th:only-of-type {\n",
       "        vertical-align: middle;\n",
       "    }\n",
       "\n",
       "    .dataframe tbody tr th {\n",
       "        vertical-align: top;\n",
       "    }\n",
       "\n",
       "    .dataframe thead th {\n",
       "        text-align: right;\n",
       "    }\n",
       "</style>\n",
       "<table border=\"1\" class=\"dataframe\">\n",
       "  <thead>\n",
       "    <tr style=\"text-align: right;\">\n",
       "      <th></th>\n",
       "      <th>pasient_id</th>\n",
       "      <th>dødsfall</th>\n",
       "      <th>antall_komorbiditeter</th>\n",
       "      <th>koma_score</th>\n",
       "      <th>adl_pasient</th>\n",
       "      <th>adl_stedfortreder</th>\n",
       "      <th>fysiologisk_score</th>\n",
       "      <th>apache_fysiologisk_score</th>\n",
       "      <th>overlevelsesestimat_2mnd</th>\n",
       "      <th>overlevelsesestimat_6mnd</th>\n",
       "      <th>...</th>\n",
       "      <th>sykdom_underkategori_Cirrhosis</th>\n",
       "      <th>sykdom_underkategori_Colon Cancer</th>\n",
       "      <th>sykdom_underkategori_Coma</th>\n",
       "      <th>sykdom_underkategori_Lung Cancer</th>\n",
       "      <th>sykdom_underkategori_MOSF w/Malig</th>\n",
       "      <th>kreft_metastatic</th>\n",
       "      <th>kreft_no</th>\n",
       "      <th>kreft_yes</th>\n",
       "      <th>dnr_status_dnr før innleggelse</th>\n",
       "      <th>dnr_status_dnr ved innleggelse</th>\n",
       "    </tr>\n",
       "  </thead>\n",
       "  <tbody>\n",
       "    <tr>\n",
       "      <th>0</th>\n",
       "      <td>5</td>\n",
       "      <td>0</td>\n",
       "      <td>1</td>\n",
       "      <td>26.0</td>\n",
       "      <td>None</td>\n",
       "      <td>2.0</td>\n",
       "      <td>23.5</td>\n",
       "      <td>30.0</td>\n",
       "      <td>0.634888</td>\n",
       "      <td>0.532959</td>\n",
       "      <td>...</td>\n",
       "      <td>False</td>\n",
       "      <td>False</td>\n",
       "      <td>False</td>\n",
       "      <td>False</td>\n",
       "      <td>False</td>\n",
       "      <td>False</td>\n",
       "      <td>True</td>\n",
       "      <td>False</td>\n",
       "      <td>False</td>\n",
       "      <td>False</td>\n",
       "    </tr>\n",
       "    <tr>\n",
       "      <th>0</th>\n",
       "      <td>15</td>\n",
       "      <td>0</td>\n",
       "      <td>1</td>\n",
       "      <td>26.0</td>\n",
       "      <td>None</td>\n",
       "      <td>None</td>\n",
       "      <td>30.5</td>\n",
       "      <td>39.0</td>\n",
       "      <td>0.590942</td>\n",
       "      <td>0.481995</td>\n",
       "      <td>...</td>\n",
       "      <td>False</td>\n",
       "      <td>False</td>\n",
       "      <td>False</td>\n",
       "      <td>False</td>\n",
       "      <td>False</td>\n",
       "      <td>False</td>\n",
       "      <td>True</td>\n",
       "      <td>False</td>\n",
       "      <td>False</td>\n",
       "      <td>False</td>\n",
       "    </tr>\n",
       "    <tr>\n",
       "      <th>0</th>\n",
       "      <td>18</td>\n",
       "      <td>1</td>\n",
       "      <td>0</td>\n",
       "      <td>26.0</td>\n",
       "      <td>None</td>\n",
       "      <td>0.0</td>\n",
       "      <td>40.296875</td>\n",
       "      <td>58.0</td>\n",
       "      <td>0.212982</td>\n",
       "      <td>0.116989</td>\n",
       "      <td>...</td>\n",
       "      <td>False</td>\n",
       "      <td>False</td>\n",
       "      <td>False</td>\n",
       "      <td>False</td>\n",
       "      <td>False</td>\n",
       "      <td>False</td>\n",
       "      <td>True</td>\n",
       "      <td>False</td>\n",
       "      <td>False</td>\n",
       "      <td>False</td>\n",
       "    </tr>\n",
       "    <tr>\n",
       "      <th>0</th>\n",
       "      <td>23</td>\n",
       "      <td>0</td>\n",
       "      <td>1</td>\n",
       "      <td>0.0</td>\n",
       "      <td>None</td>\n",
       "      <td>5.0</td>\n",
       "      <td>31.699219</td>\n",
       "      <td>42.0</td>\n",
       "      <td>0.650879</td>\n",
       "      <td>0.55188</td>\n",
       "      <td>...</td>\n",
       "      <td>False</td>\n",
       "      <td>False</td>\n",
       "      <td>False</td>\n",
       "      <td>False</td>\n",
       "      <td>False</td>\n",
       "      <td>False</td>\n",
       "      <td>True</td>\n",
       "      <td>False</td>\n",
       "      <td>False</td>\n",
       "      <td>False</td>\n",
       "    </tr>\n",
       "    <tr>\n",
       "      <th>0</th>\n",
       "      <td>28</td>\n",
       "      <td>1</td>\n",
       "      <td>1</td>\n",
       "      <td>26.0</td>\n",
       "      <td>None</td>\n",
       "      <td>2.0</td>\n",
       "      <td>46.796875</td>\n",
       "      <td>85.0</td>\n",
       "      <td>0.021</td>\n",
       "      <td>0.004999</td>\n",
       "      <td>...</td>\n",
       "      <td>False</td>\n",
       "      <td>False</td>\n",
       "      <td>False</td>\n",
       "      <td>False</td>\n",
       "      <td>True</td>\n",
       "      <td>False</td>\n",
       "      <td>False</td>\n",
       "      <td>True</td>\n",
       "      <td>False</td>\n",
       "      <td>False</td>\n",
       "    </tr>\n",
       "  </tbody>\n",
       "</table>\n",
       "<p>5 rows × 36 columns</p>\n",
       "</div>"
      ],
      "text/plain": [
       "   pasient_id  dødsfall  antall_komorbiditeter koma_score adl_pasient  \\\n",
       "0           5         0                      1       26.0        None   \n",
       "0          15         0                      1       26.0        None   \n",
       "0          18         1                      0       26.0        None   \n",
       "0          23         0                      1        0.0        None   \n",
       "0          28         1                      1       26.0        None   \n",
       "\n",
       "  adl_stedfortreder fysiologisk_score apache_fysiologisk_score  \\\n",
       "0               2.0              23.5                     30.0   \n",
       "0              None              30.5                     39.0   \n",
       "0               0.0         40.296875                     58.0   \n",
       "0               5.0         31.699219                     42.0   \n",
       "0               2.0         46.796875                     85.0   \n",
       "\n",
       "  overlevelsesestimat_2mnd overlevelsesestimat_6mnd  ...  \\\n",
       "0                 0.634888                 0.532959  ...   \n",
       "0                 0.590942                 0.481995  ...   \n",
       "0                 0.212982                 0.116989  ...   \n",
       "0                 0.650879                  0.55188  ...   \n",
       "0                    0.021                 0.004999  ...   \n",
       "\n",
       "   sykdom_underkategori_Cirrhosis  sykdom_underkategori_Colon Cancer  \\\n",
       "0                           False                              False   \n",
       "0                           False                              False   \n",
       "0                           False                              False   \n",
       "0                           False                              False   \n",
       "0                           False                              False   \n",
       "\n",
       "  sykdom_underkategori_Coma sykdom_underkategori_Lung Cancer  \\\n",
       "0                     False                            False   \n",
       "0                     False                            False   \n",
       "0                     False                            False   \n",
       "0                     False                            False   \n",
       "0                     False                            False   \n",
       "\n",
       "  sykdom_underkategori_MOSF w/Malig  kreft_metastatic  kreft_no  kreft_yes  \\\n",
       "0                             False             False      True      False   \n",
       "0                             False             False      True      False   \n",
       "0                             False             False      True      False   \n",
       "0                             False             False      True      False   \n",
       "0                              True             False     False       True   \n",
       "\n",
       "   dnr_status_dnr før innleggelse  dnr_status_dnr ved innleggelse  \n",
       "0                           False                           False  \n",
       "0                           False                           False  \n",
       "0                           False                           False  \n",
       "0                           False                           False  \n",
       "0                           False                           False  \n",
       "\n",
       "[5 rows x 36 columns]"
      ]
     },
     "execution_count": 26,
     "metadata": {},
     "output_type": "execute_result"
    }
   ],
   "source": [
    "severity_df = pd.get_dummies(severity_df, columns=['sykdomskategori_id', 'sykdomskategori', 'sykdom_underkategori', \n",
    "                                                   'kreft', 'dnr_status'])\n",
    "severity_df.head()"
   ]
  },
  {
   "cell_type": "markdown",
   "id": "f72e3818-8306-4510-8844-e4a7194249eb",
   "metadata": {},
   "source": [
    "Continuous variables like koma_score, adl_pasient, adl_stedfortreder,fysiologisk_score, apache_fysiologisk_score, overlevelsesestimat_2mnd,\n",
    "overlevelsesestimat_6mnd, lege_overlevelsesestimat_2mnd, lege_overlevelsesestimat_6mnd and dnr_dag should be float"
   ]
  },
  {
   "cell_type": "code",
   "execution_count": 27,
   "id": "ec5908b5-6824-4d1e-ac1f-081cbdc0b5f8",
   "metadata": {},
   "outputs": [],
   "source": [
    "severity_df['koma_score'] = pd.to_numeric(severity_df['koma_score'], errors='coerce')\n",
    "severity_df['adl_pasient'] = pd.to_numeric(severity_df['adl_pasient'], errors='coerce')\n",
    "severity_df['adl_stedfortreder'] = pd.to_numeric(severity_df['adl_stedfortreder'], errors='coerce')\n",
    "severity_df['fysiologisk_score'] = pd.to_numeric(severity_df['fysiologisk_score'], errors='coerce')\n",
    "severity_df['apache_fysiologisk_score'] = pd.to_numeric(severity_df['apache_fysiologisk_score'], errors='coerce')\n",
    "severity_df['overlevelsesestimat_2mnd'] = pd.to_numeric(severity_df['overlevelsesestimat_2mnd'], errors='coerce')\n",
    "severity_df['overlevelsesestimat_6mnd'] = pd.to_numeric(severity_df['overlevelsesestimat_6mnd'], errors='coerce')\n",
    "severity_df['lege_overlevelsesestimat_2mnd'] = pd.to_numeric(severity_df['lege_overlevelsesestimat_2mnd'], errors='coerce')\n",
    "severity_df['lege_overlevelsesestimat_6mnd'] = pd.to_numeric(severity_df['lege_overlevelsesestimat_6mnd'], errors='coerce')\n",
    "severity_df['dnr_dag'] = pd.to_numeric(severity_df['dnr_dag'], errors='coerce')"
   ]
  },
  {
   "cell_type": "markdown",
   "id": "4a5fce76-e326-4d99-9139-35f84d00d994",
   "metadata": {},
   "source": [
    "#### Checking missing data\n",
    "___"
   ]
  },
  {
   "cell_type": "code",
   "execution_count": 28,
   "id": "0dc15134-89f8-4791-900b-222d1b29fea3",
   "metadata": {},
   "outputs": [
    {
     "data": {
      "text/plain": [
       "pasient_id                 0\n",
       "blodtrykk                  0\n",
       "hvite_blodlegemer        175\n",
       "hjertefrekvens             0\n",
       "respirasjonsfrekvens       0\n",
       "kroppstemperatur           0\n",
       "lungefunksjon           1944\n",
       "serumalbumin            2849\n",
       "bilirubin               2196\n",
       "kreatinin                 57\n",
       "natrium                    0\n",
       "blod_ph                 1912\n",
       "glukose                 3823\n",
       "blodurea_nitrogen       3692\n",
       "urinmengde              4113\n",
       "dtype: int64"
      ]
     },
     "execution_count": 28,
     "metadata": {},
     "output_type": "execute_result"
    }
   ],
   "source": [
    "phys_df.isnull().sum()"
   ]
  },
  {
   "cell_type": "markdown",
   "id": "61bb71f7-93b7-4c08-89a0-6555962bbafc",
   "metadata": {},
   "source": [
    "#### Checking and removing duplicates\n",
    "___"
   ]
  },
  {
   "cell_type": "code",
   "execution_count": 29,
   "id": "ca588e39-e0cf-4bce-a431-62aba0c4d52a",
   "metadata": {},
   "outputs": [
    {
     "name": "stdout",
     "output_type": "stream",
     "text": [
      "Duplicates before : 0\n",
      "Duplicates after : 0\n"
     ]
    }
   ],
   "source": [
    "duplicate_count_before = phys_df.duplicated().sum()\n",
    "print(f\"Duplicates before : {duplicate_count_before}\")\n",
    "\n",
    "phys_df = phys_df.drop_duplicates()\n",
    "\n",
    "duplicate_count_after = phys_df.duplicated().sum()\n",
    "print(f\"Duplicates after : {duplicate_count_after}\")"
   ]
  },
  {
   "cell_type": "markdown",
   "id": "2706c8d0-7c28-47c6-823d-39a02eec4ea7",
   "metadata": {},
   "source": [
    "No duplicates"
   ]
  },
  {
   "cell_type": "markdown",
   "id": "12576ec9-3d99-45be-8fe1-cac1786a25ff",
   "metadata": {},
   "source": [
    "## Making One Data Set\n",
    "___"
   ]
  },
  {
   "cell_type": "code",
   "execution_count": 30,
   "id": "fdbdf6fe-ccc4-4e45-826e-6a7fcef5cbd5",
   "metadata": {},
   "outputs": [],
   "source": [
    "demo_hosp_df = pd.merge(demo_df, hosp_df, on='pasient_id')\n",
    "demo_hosp_phys_df = pd.merge(demo_hosp_df, phys_df, on='pasient_id')\n",
    "pasient_id_df = pd.merge(demo_hosp_phys_df, severity_df, on='pasient_id')"
   ]
  },
  {
   "cell_type": "code",
   "execution_count": 31,
   "id": "6a2f3865-e63b-422d-a834-0d9f934c6425",
   "metadata": {},
   "outputs": [
    {
     "name": "stdout",
     "output_type": "stream",
     "text": [
      "<class 'pandas.core.frame.DataFrame'>\n",
      "RangeIndex: 7734 entries, 0 to 7733\n",
      "Data columns (total 62 columns):\n",
      " #   Column                                  Non-Null Count  Dtype  \n",
      "---  ------                                  --------------  -----  \n",
      " 0   pasient_id                              7734 non-null   int64  \n",
      " 1   alder                                   7729 non-null   float64\n",
      " 2   utdanning                               6354 non-null   float64\n",
      " 3   inntekt_$25-$50k                        7734 non-null   bool   \n",
      " 4   inntekt_>$50k                           7734 non-null   bool   \n",
      " 5   inntekt_under $11k                      7734 non-null   bool   \n",
      " 6   kjønn_male                              7734 non-null   bool   \n",
      " 7   etnisitet_black                         7734 non-null   bool   \n",
      " 8   etnisitet_hispanic                      7734 non-null   bool   \n",
      " 9   etnisitet_other                         7734 non-null   bool   \n",
      " 10  etnisitet_white                         7734 non-null   bool   \n",
      " 11  sykehusdød                              7734 non-null   int64  \n",
      " 12  oppholdslengde                          7734 non-null   int64  \n",
      " 13  blodtrykk                               7734 non-null   float64\n",
      " 14  hvite_blodlegemer                       7559 non-null   float64\n",
      " 15  hjertefrekvens                          7734 non-null   float64\n",
      " 16  respirasjonsfrekvens                    7734 non-null   float64\n",
      " 17  kroppstemperatur                        7734 non-null   float64\n",
      " 18  lungefunksjon                           5791 non-null   float64\n",
      " 19  serumalbumin                            4887 non-null   float64\n",
      " 20  bilirubin                               5540 non-null   float64\n",
      " 21  kreatinin                               7677 non-null   float64\n",
      " 22  natrium                                 7734 non-null   float64\n",
      " 23  blod_ph                                 5823 non-null   float64\n",
      " 24  glukose                                 3917 non-null   float64\n",
      " 25  blodurea_nitrogen                       4048 non-null   float64\n",
      " 26  urinmengde                              3627 non-null   float64\n",
      " 27  dødsfall                                7734 non-null   Int64  \n",
      " 28  antall_komorbiditeter                   7734 non-null   Int64  \n",
      " 29  koma_score                              7734 non-null   float64\n",
      " 30  adl_pasient                             2942 non-null   float64\n",
      " 31  adl_stedfortreder                       5294 non-null   float64\n",
      " 32  fysiologisk_score                       7734 non-null   float64\n",
      " 33  apache_fysiologisk_score                7734 non-null   float64\n",
      " 34  overlevelsesestimat_2mnd                7734 non-null   float64\n",
      " 35  overlevelsesestimat_6mnd                7734 non-null   float64\n",
      " 36  diabetes                                7734 non-null   Int64  \n",
      " 37  demens                                  7734 non-null   Int64  \n",
      " 38  lege_overlevelsesestimat_2mnd           6315 non-null   float64\n",
      " 39  lege_overlevelsesestimat_6mnd           6329 non-null   float64\n",
      " 40  dnr_dag                                 1070 non-null   float64\n",
      " 41  sykdomskategori_id_A1s                  7734 non-null   bool   \n",
      " 42  sykdomskategori_id_BrY                  7734 non-null   bool   \n",
      " 43  sykdomskategori_id_ChE                  7734 non-null   bool   \n",
      " 44  sykdomskategori_id_DWw                  7734 non-null   bool   \n",
      " 45  sykdomskategori_ARF/MOSF                7734 non-null   bool   \n",
      " 46  sykdomskategori_COPD/CHF/Cirrhosis      7734 non-null   bool   \n",
      " 47  sykdomskategori_Cancer                  7734 non-null   bool   \n",
      " 48  sykdomskategori_Coma                    7734 non-null   bool   \n",
      " 49  sykdom_underkategori_ARF/MOSF w/Sepsis  7734 non-null   bool   \n",
      " 50  sykdom_underkategori_CHF                7734 non-null   bool   \n",
      " 51  sykdom_underkategori_COPD               7734 non-null   bool   \n",
      " 52  sykdom_underkategori_Cirrhosis          7734 non-null   bool   \n",
      " 53  sykdom_underkategori_Colon Cancer       7734 non-null   bool   \n",
      " 54  sykdom_underkategori_Coma               7734 non-null   bool   \n",
      " 55  sykdom_underkategori_Lung Cancer        7734 non-null   bool   \n",
      " 56  sykdom_underkategori_MOSF w/Malig       7734 non-null   bool   \n",
      " 57  kreft_metastatic                        7734 non-null   bool   \n",
      " 58  kreft_no                                7734 non-null   bool   \n",
      " 59  kreft_yes                               7734 non-null   bool   \n",
      " 60  dnr_status_dnr før innleggelse          7734 non-null   bool   \n",
      " 61  dnr_status_dnr ved innleggelse          7734 non-null   bool   \n",
      "dtypes: Int64(4), bool(29), float64(26), int64(3)\n",
      "memory usage: 2.2 MB\n"
     ]
    }
   ],
   "source": [
    "pasient_id_df.info()"
   ]
  },
  {
   "cell_type": "markdown",
   "id": "7142e172-b8fd-4c87-8bad-4b1bebfc3164",
   "metadata": {},
   "source": [
    "## Handling NaNs\n",
    "___"
   ]
  },
  {
   "cell_type": "markdown",
   "id": "b552bf38-b825-419e-b3ea-1df82ea5de65",
   "metadata": {},
   "source": [
    "### Colums with NaNs\n",
    "___"
   ]
  },
  {
   "cell_type": "markdown",
   "id": "99bf0c09-f87b-471a-86c9-87f40f1587d8",
   "metadata": {},
   "source": [
    "To find columns with NaNs we use .isnull, we also want to find count of NaNs in column and the percentage of NaNs for each column."
   ]
  },
  {
   "cell_type": "code",
   "execution_count": 32,
   "id": "f09c8242-3306-47f5-8abe-5f65caf52622",
   "metadata": {},
   "outputs": [
    {
     "name": "stdout",
     "output_type": "stream",
     "text": [
      "                               NaN Count  Percentage\n",
      "alder                                  5    0.064650\n",
      "utdanning                           1380   17.843289\n",
      "hvite_blodlegemer                    175    2.262736\n",
      "lungefunksjon                       1943   25.122834\n",
      "serumalbumin                        2847   36.811482\n",
      "bilirubin                           2194   28.368244\n",
      "kreatinin                             57    0.737005\n",
      "blod_ph                             1911   24.709077\n",
      "glukose                             3817   49.353504\n",
      "blodurea_nitrogen                   3686   47.659685\n",
      "urinmengde                          4107   53.103181\n",
      "adl_pasient                         4792   61.960176\n",
      "adl_stedfortreder                   2440   31.549004\n",
      "lege_overlevelsesestimat_2mnd       1419   18.347556\n",
      "lege_overlevelsesestimat_6mnd       1405   18.166537\n",
      "dnr_dag                             6664   86.164986\n"
     ]
    }
   ],
   "source": [
    "nan_counts = pasient_id_df.isnull().sum()\n",
    "nan_percentage = (nan_counts / len(pasient_id_df)) * 100\n",
    "nan_summary = pd.DataFrame({\n",
    "    'NaN Count': nan_counts,\n",
    "    'Percentage': nan_percentage\n",
    "})\n",
    "\n",
    "nan_summary = nan_summary[nan_summary['NaN Count'] > 0]\n",
    "\n",
    "print(nan_summary)"
   ]
  },
  {
   "cell_type": "markdown",
   "id": "d2adcc01-6838-4871-965d-4e44a52b0f4c",
   "metadata": {},
   "source": [
    "In handling the missing data, we will address some columns immediately where the fixes are straightforward. For instance, columns with minimal missing values can have rows removed, or straightforward imputations can be applied. However, other columns with a significant amount of missing data will require further consideration. These will be handled with imputation techniques or other strategies, which will be implemented in the modeling section to ensure the integrity of the analysis."
   ]
  },
  {
   "cell_type": "markdown",
   "id": "fb46f269-ed8c-4718-a18a-9b84e27a578f",
   "metadata": {},
   "source": [
    "### Alder\n",
    "___"
   ]
  },
  {
   "cell_type": "markdown",
   "id": "1a538068-afaa-4ac7-8709-43d0dfd43af5",
   "metadata": {},
   "source": [
    "Alder only has 5 NaN values, since the count is so low, we will just remove these iDs."
   ]
  },
  {
   "cell_type": "code",
   "execution_count": 33,
   "id": "92415ff0-bf9c-497b-a2cc-13402edb7e7e",
   "metadata": {},
   "outputs": [
    {
     "name": "stdout",
     "output_type": "stream",
     "text": [
      "NaN count for 'alder' before dropping: 5\n",
      "NaN count for 'alder' after dropping: 0\n"
     ]
    }
   ],
   "source": [
    "nan_count_before = pasient_id_df['alder'].isna().sum()\n",
    "print(f\"NaN count for 'alder' before dropping: {nan_count_before}\")\n",
    "\n",
    "pasient_id_df = pasient_id_df.dropna(subset=['alder'])\n",
    "\n",
    "nan_count_after = pasient_id_df['alder'].isna().sum()\n",
    "print(f\"NaN count for 'alder' after dropping: {nan_count_after}\")"
   ]
  },
  {
   "cell_type": "markdown",
   "id": "cc7960c5-f749-44af-9e11-4fc0c28c5527",
   "metadata": {},
   "source": [
    "### Utdanning\n",
    "___"
   ]
  },
  {
   "cell_type": "markdown",
   "id": "848b8163-528c-4f67-adbb-a664d04dcbdc",
   "metadata": {},
   "source": [
    "Signifcant amount of missing data, will be handled in modeling."
   ]
  },
  {
   "cell_type": "markdown",
   "id": "9c7487a0-edb3-4c35-a2ca-8cf1d478e8c5",
   "metadata": {},
   "source": [
    "### Physiological factors\n",
    "___"
   ]
  },
  {
   "cell_type": "markdown",
   "id": "ccf15f19-890a-4954-b6c9-550fae570d25",
   "metadata": {},
   "source": [
    "All together the physiological colums have signifcant amount of missing data, and will be handled in modeling. "
   ]
  },
  {
   "cell_type": "markdown",
   "id": "1c3df60f-eee6-4f44-a2e9-7aa09794a897",
   "metadata": {},
   "source": [
    "### Adl_pasient and Adl_stedfortreder\n",
    "___"
   ]
  },
  {
   "cell_type": "markdown",
   "id": "d3ca689c-688e-4640-aad1-4e6399078ecc",
   "metadata": {},
   "source": [
    "Significant amount of missing data, will be handled in modeling."
   ]
  },
  {
   "cell_type": "markdown",
   "id": "b2c45dac-259e-49b6-92cf-409fc813c841",
   "metadata": {},
   "source": [
    "### Lege_overlevelsesestimat_2mnd and ege_overlevelsesestimat_6mnd\n",
    "___"
   ]
  },
  {
   "cell_type": "markdown",
   "id": "929b942a-d52a-439a-85b2-31d2fc3cf69c",
   "metadata": {},
   "source": [
    "Significant amount of missing data, will be handled in modeling."
   ]
  },
  {
   "cell_type": "markdown",
   "id": "d6e6d83d-41e7-47db-9b24-17c9c9796ae9",
   "metadata": {},
   "source": [
    "### Dnr_dag\n",
    "___"
   ]
  },
  {
   "cell_type": "markdown",
   "id": "0ca015f4-64ce-494a-9886-fec996c44c01",
   "metadata": {},
   "source": [
    "Significant amount of missing data, will be handled in modeling."
   ]
  },
  {
   "cell_type": "markdown",
   "id": "74db6799-d89c-4dc9-93c3-d46927932357",
   "metadata": {},
   "source": [
    "## Splitting in to train-, test- and validationdata\n",
    "___"
   ]
  },
  {
   "cell_type": "markdown",
   "id": "a2f2704b-8b19-4c21-80f5-bce66af16dc5",
   "metadata": {},
   "source": [
    "We use train_test_split to split pasient_id_df into train and test datasets, and then further split the train dataset into train and val datasets.\n",
    "train_df: 60%,\n",
    "val_df: 20%,\n",
    "test_df: 20%. We then store them in the folder cleaned_data"
   ]
  },
  {
   "cell_type": "code",
   "execution_count": 34,
   "id": "66426f4c-0c70-42c3-8393-aad1723c0df7",
   "metadata": {},
   "outputs": [],
   "source": [
    "X = pasient_id_df.drop(['oppholdslengde', 'pasient_id'], axis=1)\n",
    "y = pasient_id_df['oppholdslengde']\n",
    "\n",
    "X_train_val, X_test, y_train_val, y_test = train_test_split(X, y, test_size=0.2, random_state=1)\n",
    "\n",
    "X_train, X_val, y_train, y_val = train_test_split(X_train_val, y_train_val, test_size=0.25, random_state=1)\n",
    "\n",
    "X_train.to_csv('../cleaned_data/X_train.csv', index=False)\n",
    "y_train.to_csv('../cleaned_data/y_train.csv', index=False)\n",
    "\n",
    "X_val.to_csv('../cleaned_data/X_val.csv', index=False)\n",
    "y_val.to_csv('../cleaned_data/y_val.csv', index=False)\n",
    "\n",
    "X_test.to_csv('../cleaned_data/X_test.csv', index=False)\n",
    "y_test.to_csv('../cleaned_data/y_test.csv', index=False)"
   ]
  }
 ],
 "metadata": {
  "kernelspec": {
   "display_name": "myenv",
   "language": "python",
   "name": "python3"
  },
  "language_info": {
   "codemirror_mode": {
    "name": "ipython",
    "version": 3
   },
   "file_extension": ".py",
   "mimetype": "text/x-python",
   "name": "python",
   "nbconvert_exporter": "python",
   "pygments_lexer": "ipython3",
   "version": "3.10.13"
  }
 },
 "nbformat": 4,
 "nbformat_minor": 5
}
